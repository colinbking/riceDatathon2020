{
 "nbformat": 4,
 "nbformat_minor": 2,
 "metadata": {
  "language_info": {
   "name": "python",
   "codemirror_mode": {
    "name": "ipython",
    "version": 3
   },
   "version": "3.6.10-final"
  },
  "orig_nbformat": 2,
  "file_extension": ".py",
  "mimetype": "text/x-python",
  "name": "python",
  "npconvert_exporter": "python",
  "pygments_lexer": "ipython3",
  "version": 3,
  "kernelspec": {
   "name": "python361064bitdatathonconda440b29a5912641cf86e64ffe843d8e14",
   "display_name": "Python 3.6.10 64-bit ('datathon': conda)"
  }
 },
 "cells": [
  {
   "cell_type": "code",
   "execution_count": 87,
   "metadata": {},
   "outputs": [],
   "source": [
    "import pandas as pd\n",
    "import numpy as np\n",
    "import collections\n",
    "import ast\n"
   ]
  },
  {
   "cell_type": "code",
   "execution_count": 121,
   "metadata": {},
   "outputs": [],
   "source": [
    "df = pd.read_csv(\"analysed cc - first pass.csv\")\n",
    "#contains the dictionary where keys are specific key words, and values are a tuple of (x_bar, n)\n",
    "key_words = {\n",
    "    'lecture' : [0,0],\n",
    "    'material' : [0,0],\n",
    "    'information' : [0,0], \n",
    "    'organization' : [0,0],\n",
    "    'disorganized' : [0,0],\n",
    "    'concepts' : [0,0],\n",
    "    'discussion' : [0,0],\n",
    "    'memorization' : [0,0],\n",
    "    'workload' : [0,0],\n",
    "    'read' : [0,0],\n",
    "    'exams' : [0,0],\n",
    "    'presentation' : [0,0],\n",
    "    'homework' : [0,0],\n",
    "    'labs' : [0,0],\n",
    "    'textbook' : [0,0],\n",
    "    'curve' : [0,0],\n",
    "    'recitation' : [0,0]\n",
    "} \n",
    "\n",
    "#df['tweet'].info()"
   ]
  },
  {
   "cell_type": "code",
   "execution_count": 122,
   "metadata": {},
   "outputs": [],
   "source": [
    "# function that goes in lambda expression below\n",
    "def update_weight(input): # input is a tuple where input[0] is list of words and input[1] is rating\n",
    "    for x in ast.literal_eval(input[0]):\n",
    "        #print(x)\n",
    "        if x in key_words: # key_words dictionary\n",
    "            key_words[x][0] = (key_words[x][0] * key_words[x][1] + int(input[1])) / (key_words[x][1] + 1)\n",
    "            key_words[x][1] += 1"
   ]
  },
  {
   "cell_type": "code",
   "execution_count": 123,
   "metadata": {},
   "outputs": [],
   "source": [
    "for index, row in df[[\"tweet\", \"classified\"]].iterrows():\n",
    "    update_weight((row['tweet'], row['classified']))"
   ]
  },
  {
   "cell_type": "code",
   "execution_count": 124,
   "metadata": {},
   "outputs": [
    {
     "name": "stdout",
     "output_type": "stream",
     "text": "{'lecture': [3.8449388209121245, 4495], 'material': [3.969456427955142, 5795], 'information': [4.014520813165534, 1033], 'organization': [3.789156626506024, 332], 'disorganized': [0, 0], 'concepts': [3.935374149659867, 1470], 'discussion': [4.060606060606061, 726], 'memorization': [4.078059071729952, 474], 'workload': [4.114638447971787, 567], 'read': [4.026041666666659, 2688], 'exams': [3.702045542261674, 2591], 'presentation': [3.8220338983050848, 118], 'homework': [3.8418700584393264, 2909], 'labs': [3.601983002832861, 706], 'textbook': [3.7438775510204083, 980], 'curve': [3.2548262548262556, 518], 'recitation': [3.7142857142857144, 35]}\n"
    }
   ],
   "source": [
    "print(key_words)"
   ]
  },
  {
   "cell_type": "code",
   "execution_count": 126,
   "metadata": {},
   "outputs": [],
   "source": [
    "for x in key_words.keys():\n",
    "    if key_words[x] == [0,0]:\n",
    "        del key_words[x]"
   ]
  },
  {
   "cell_type": "code",
   "execution_count": 127,
   "metadata": {},
   "outputs": [
    {
     "name": "stdout",
     "output_type": "stream",
     "text": "{'lecture': [3.8449388209121245, 4495], 'material': [3.969456427955142, 5795], 'information': [4.014520813165534, 1033], 'organization': [3.789156626506024, 332], 'concepts': [3.935374149659867, 1470], 'discussion': [4.060606060606061, 726], 'memorization': [4.078059071729952, 474], 'workload': [4.114638447971787, 567], 'read': [4.026041666666659, 2688], 'exams': [3.702045542261674, 2591], 'presentation': [3.8220338983050848, 118], 'homework': [3.8418700584393264, 2909], 'labs': [3.601983002832861, 706], 'textbook': [3.7438775510204083, 980], 'curve': [3.2548262548262556, 518], 'recitation': [3.7142857142857144, 35]}\n"
    }
   ],
   "source": [
    "print(key_words)"
   ]
  },
  {
   "cell_type": "code",
   "execution_count": null,
   "metadata": {},
   "outputs": [],
   "source": []
  }
 ]
}