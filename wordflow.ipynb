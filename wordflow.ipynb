{
 "cells": [
  {
   "cell_type": "code",
   "execution_count": 1,
   "metadata": {},
   "outputs": [],
   "source": [
    "import pandas as pd\n",
    "import numpy as np\n",
    "import collections\n",
    "import ast\n",
    "import matplotlib.pyplot as plt\n"
   ]
  },
  {
   "cell_type": "code",
   "execution_count": 2,
   "metadata": {},
   "outputs": [],
   "source": [
    "df = pd.read_csv(\"analysed cc - first pass.csv\")\n",
    "#contains the dictionary where keys are specific key words, and values are a tuple of (x_bar, n)\n",
    "kwk = ['lecture',\n",
    " 'material',\n",
    " 'information',\n",
    " 'organization',\n",
    " 'disorganized',\n",
    " 'concepts',\n",
    " 'discussion',\n",
    " 'memorization',\n",
    " 'workload',\n",
    " 'read',\n",
    " 'exams',\n",
    " 'presentation',\n",
    " 'homework',\n",
    " 'labs',\n",
    " 'textbook',\n",
    " 'curve',\n",
    " 'recitation']\n",
    "key_words = {i:[0,0,0,0,0] for i in kwk}\n",
    "\n",
    "#df['tweet'].info()"
   ]
  },
  {
   "cell_type": "code",
   "execution_count": 3,
   "metadata": {},
   "outputs": [
    {
     "data": {
      "text/html": [
       "<div>\n",
       "<style scoped>\n",
       "    .dataframe tbody tr th:only-of-type {\n",
       "        vertical-align: middle;\n",
       "    }\n",
       "\n",
       "    .dataframe tbody tr th {\n",
       "        vertical-align: top;\n",
       "    }\n",
       "\n",
       "    .dataframe thead th {\n",
       "        text-align: right;\n",
       "    }\n",
       "</style>\n",
       "<table border=\"1\" class=\"dataframe\">\n",
       "  <thead>\n",
       "    <tr style=\"text-align: right;\">\n",
       "      <th></th>\n",
       "      <th>Unnamed: 0</th>\n",
       "      <th>Course Key</th>\n",
       "      <th>Comments</th>\n",
       "      <th>tweet</th>\n",
       "      <th>classifiedhappy</th>\n",
       "      <th>classifiedlearning</th>\n",
       "    </tr>\n",
       "  </thead>\n",
       "  <tbody>\n",
       "    <tr>\n",
       "      <th>0</th>\n",
       "      <td>0</td>\n",
       "      <td>200710-11026</td>\n",
       "      <td>3.5 out of 5 stars</td>\n",
       "      <td>['3.5', 'out', 'of', '5', 'star']</td>\n",
       "      <td>5</td>\n",
       "      <td>5</td>\n",
       "    </tr>\n",
       "    <tr>\n",
       "      <th>1</th>\n",
       "      <td>1</td>\n",
       "      <td>200710-11026</td>\n",
       "      <td>A lot of reading and sometimes it was boring. ...</td>\n",
       "      <td>['a', 'lot', 'of', 'read', 'and', 'sometimes',...</td>\n",
       "      <td>1</td>\n",
       "      <td>1</td>\n",
       "    </tr>\n",
       "    <tr>\n",
       "      <th>2</th>\n",
       "      <td>2</td>\n",
       "      <td>200710-11026</td>\n",
       "      <td>a lot of reading on your own part, but interes...</td>\n",
       "      <td>['a', 'lot', 'of', 'read', 'on', 'your', 'own'...</td>\n",
       "      <td>5</td>\n",
       "      <td>5</td>\n",
       "    </tr>\n",
       "    <tr>\n",
       "      <th>3</th>\n",
       "      <td>3</td>\n",
       "      <td>200710-11026</td>\n",
       "      <td>BIOS 201 is a great class,not only because of ...</td>\n",
       "      <td>['bios', '201', 'be', 'a', 'great', 'class', '...</td>\n",
       "      <td>4</td>\n",
       "      <td>2</td>\n",
       "    </tr>\n",
       "    <tr>\n",
       "      <th>4</th>\n",
       "      <td>4</td>\n",
       "      <td>200710-11026</td>\n",
       "      <td>Bios 201 was an organized, well taught class. ...</td>\n",
       "      <td>['201', 'be', 'an', 'organize', 'well', 'teach...</td>\n",
       "      <td>4</td>\n",
       "      <td>2</td>\n",
       "    </tr>\n",
       "  </tbody>\n",
       "</table>\n",
       "</div>"
      ],
      "text/plain": [
       "   Unnamed: 0    Course Key  \\\n",
       "0           0  200710-11026   \n",
       "1           1  200710-11026   \n",
       "2           2  200710-11026   \n",
       "3           3  200710-11026   \n",
       "4           4  200710-11026   \n",
       "\n",
       "                                            Comments  \\\n",
       "0                                 3.5 out of 5 stars   \n",
       "1  A lot of reading and sometimes it was boring. ...   \n",
       "2  a lot of reading on your own part, but interes...   \n",
       "3  BIOS 201 is a great class,not only because of ...   \n",
       "4  Bios 201 was an organized, well taught class. ...   \n",
       "\n",
       "                                               tweet  classifiedhappy  \\\n",
       "0                  ['3.5', 'out', 'of', '5', 'star']                5   \n",
       "1  ['a', 'lot', 'of', 'read', 'and', 'sometimes',...                1   \n",
       "2  ['a', 'lot', 'of', 'read', 'on', 'your', 'own'...                5   \n",
       "3  ['bios', '201', 'be', 'a', 'great', 'class', '...                4   \n",
       "4  ['201', 'be', 'an', 'organize', 'well', 'teach...                4   \n",
       "\n",
       "   classifiedlearning  \n",
       "0                   5  \n",
       "1                   1  \n",
       "2                   5  \n",
       "3                   2  \n",
       "4                   2  "
      ]
     },
     "execution_count": 3,
     "metadata": {},
     "output_type": "execute_result"
    }
   ],
   "source": [
    "df.head()"
   ]
  },
  {
   "cell_type": "code",
   "execution_count": 7,
   "metadata": {},
   "outputs": [
    {
     "data": {
      "text/plain": [
       "(array([ 1303.,     0.,  1081.,     0.,     0.,  1430.,     0.,  3544.,\n",
       "            0., 11420.]),\n",
       " array([1. , 1.4, 1.8, 2.2, 2.6, 3. , 3.4, 3.8, 4.2, 4.6, 5. ]),\n",
       " <a list of 10 Patch objects>)"
      ]
     },
     "execution_count": 7,
     "metadata": {},
     "output_type": "execute_result"
    },
    {
     "data": {
      "image/png": "[encoded data removed]",
      "text/plain": [
       "<Figure size 432x288 with 1 Axes>"
      ]
     },
     "metadata": {
      "needs_background": "light"
     },
     "output_type": "display_data"
    }
   ],
   "source": [
    "plt.hist(df[\"classifiedhappy\"].values)"
   ]
  },
  {
   "cell_type": "code",
   "execution_count": 8,
   "metadata": {},
   "outputs": [],
   "source": [
    "# function that goes in lambda expression below\n",
    "def update_weight_running_average(input): # input is a tuple where input[0] is list of words and input[1] is rating\n",
    "    for x in ast.literal_eval(input[0]):\n",
    "        #print(x)\n",
    "        if x in key_words: # key_words dictionary\n",
    "            key_words[x][0] = (key_words[x][0] * key_words[x][1] + int(input[1])) / (key_words[x][1] + 1)\n",
    "            key_words[x][1] += 1"
   ]
  },
  {
   "cell_type": "code",
   "execution_count": 9,
   "metadata": {},
   "outputs": [],
   "source": [
    "def update_weight(input): # input is a tuple where input[0] is list of words and input[1] is rating\n",
    "    for x in ast.literal_eval(input[0]):\n",
    "        #print(x)\n",
    "        if x in key_words: # key_words dictionary\n",
    "            key_words[x][int(input[1]) - 1] += 1"
   ]
  },
  {
   "cell_type": "code",
   "execution_count": 30,
   "metadata": {
    "scrolled": true
   },
   "outputs": [
    {
     "data": {
      "text/plain": [
       "array(['200710-11026', '200720-20006', '200720-20119', '200720-20472',\n",
       "       '200720-20506', '200720-20718', '200720-20867', '200810-10446',\n",
       "       '200810-10790', '200810-10988', '200810-10990', '200810-11026',\n",
       "       '200810-11031', '200810-11048', '200810-11143', '200810-11778',\n",
       "       '200810-11790', '200820-20006', '200820-20119', '200820-20121',\n",
       "       '200820-20472', '200820-20531', '200820-20717', '200820-20841',\n",
       "       '200910-10446', '200910-10790', '200910-10988', '200910-11026',\n",
       "       '200910-11031', '200910-11048', '200910-11144', '200910-11146',\n",
       "       '200910-11778', '200910-11790', '200920-20119', '200920-20460',\n",
       "       '200920-20717', '201010-10477', '201010-10791', '201010-10988',\n",
       "       '201010-10990', '201010-11026', '201010-11031', '201010-11048',\n",
       "       '201010-11777', '201010-11778', '201010-11790', '201020-20119',\n",
       "       '201020-20121', '201020-20459', '201020-20460', '201020-20472',\n",
       "       '201020-20506', '201020-20531', '201020-20707', '201020-20710',\n",
       "       '201020-20841', '201020-K9', '201110-10446', '201110-10788',\n",
       "       '201110-10790', '201110-10791', '201110-10988', '201110-10990',\n",
       "       '201110-11143', '201110-11144', '201110-11214', '201110-11790',\n",
       "       '201110-14598', '201110-15151', '201110-15160', '201110-15182',\n",
       "       '201110-15320', '201110-16198', '201110-F4', '201110-R4',\n",
       "       '201120-20119', '201120-20121', '201120-20459', '201120-20460',\n",
       "       '201120-20472', '201120-20710', '201120-20717', '201120-21595',\n",
       "       '201120-D3', '201210-10784', '201210-10988', '201210-10990',\n",
       "       '201210-11143', '201210-11790', '201210-15160', '201210-15182',\n",
       "       '201210-15320', '201210-16198', '201210-16556', '201210-16688',\n",
       "       '201210-F4', '201210-XA', '201220-20119', '201220-20121',\n",
       "       '201220-20459', '201220-20460', '201220-20472', '201220-20707',\n",
       "       '201220-20710', '201220-25774', '201220-26897', '201310-10545',\n",
       "       '201310-10784', '201310-10790', '201310-10791', '201310-10988',\n",
       "       '201310-10990', '201310-11143', '201310-11790', '201310-14598',\n",
       "       '201310-15182', '201310-15320', '201310-15665', '201310-16198',\n",
       "       '201310-17683', '201310-17684', '201310-17713', '201310-17833',\n",
       "       '201310-F4', '201320-20119', '201320-20121', '201320-20472',\n",
       "       '201320-20717', '201320-26897', '201410-10784', '201410-10790',\n",
       "       '201410-10988', '201410-10990', '201410-11790', '201410-12570',\n",
       "       '201410-17683', '201410-17689', '201410-17713', '201410-17833',\n",
       "       '201410-17846', '201410-F4', '201420-20020', '201420-20121',\n",
       "       '201420-20196', '201420-20220', '201420-20719', '201420-21090',\n",
       "       '201420-22574', '201510-10202', '201510-10207', '201510-10210',\n",
       "       '201510-10257', '201510-10555', '201510-10703', '201510-10775',\n",
       "       '201510-11319', '201510-11327', '201510-11366', '201510-12354',\n",
       "       '201510-XH', '201520-20020', '201520-23297', '201520-EC',\n",
       "       '201520-EE', '201520-ZB', '201610-10210', '201610-10499',\n",
       "       '201610-10500', '201610-10555', '201610-10703', '201610-11176',\n",
       "       '201610-11318', '201610-11327', '201610-11366', '201610-12354',\n",
       "       '201610-12389', '201610-14015', '201610-14016', '201610-XZ',\n",
       "       '201620-20020', '201620-20121', '201620-23297', '201620-EC',\n",
       "       '201710-10259', '201710-10499', '201710-10703', '201710-11327',\n",
       "       '201710-14015', '201710-G9', '201710-XB', '201720-20066',\n",
       "       '201720-EC', '201720-XY', '201810-10210', '201810-10259',\n",
       "       '201810-10300', '201810-10301', '201810-10499', '201810-10500',\n",
       "       '201810-10703', '201810-11318', '201810-11327', '201810-11366',\n",
       "       '201810-13782', '201810-13783', '201810-14016', '201810-G9',\n",
       "       '201810-XB', '201820-20017', '201820-20066', '201820-20373',\n",
       "       '201820-21165', '201820-EC', '201820-XW', '201910-10110',\n",
       "       '201910-10144', '201910-10326', '201910-10327', '201910-10434',\n",
       "       '201910-10765', '201910-10781', '201910-11297', '201910-G0',\n",
       "       '201910-XA', '201910-XB', '201910-XD', '201920-20017',\n",
       "       '201920-20066', '201920-BB', '201920-EC', '201920-XW'],\n",
       "      dtype=object)"
      ]
     },
     "execution_count": 30,
     "metadata": {},
     "output_type": "execute_result"
    }
   ],
   "source": [
    "pd.unique(df['Course Key'])"
   ]
  },
  {
   "cell_type": "code",
   "execution_count": 56,
   "metadata": {
    "scrolled": false
   },
   "outputs": [
    {
     "data": {
      "text/html": [
       "<div>\n",
       "<style scoped>\n",
       "    .dataframe tbody tr th:only-of-type {\n",
       "        vertical-align: middle;\n",
       "    }\n",
       "\n",
       "    .dataframe tbody tr th {\n",
       "        vertical-align: top;\n",
       "    }\n",
       "\n",
       "    .dataframe thead th {\n",
       "        text-align: right;\n",
       "    }\n",
       "</style>\n",
       "<table border=\"1\" class=\"dataframe\">\n",
       "  <thead>\n",
       "    <tr style=\"text-align: right;\">\n",
       "      <th></th>\n",
       "      <th>201710-10703</th>\n",
       "      <th>201810-10703</th>\n",
       "    </tr>\n",
       "  </thead>\n",
       "  <tbody>\n",
       "    <tr>\n",
       "      <th>material</th>\n",
       "      <td>1.000000</td>\n",
       "      <td>0.644118</td>\n",
       "    </tr>\n",
       "    <tr>\n",
       "      <th>homework</th>\n",
       "      <td>0.425951</td>\n",
       "      <td>0.223529</td>\n",
       "    </tr>\n",
       "    <tr>\n",
       "      <th>lecture</th>\n",
       "      <td>0.425951</td>\n",
       "      <td>0.388235</td>\n",
       "    </tr>\n",
       "    <tr>\n",
       "      <th>exams</th>\n",
       "      <td>0.364130</td>\n",
       "      <td>1.000000</td>\n",
       "    </tr>\n",
       "    <tr>\n",
       "      <th>read</th>\n",
       "      <td>0.298913</td>\n",
       "      <td>0.131092</td>\n",
       "    </tr>\n",
       "    <tr>\n",
       "      <th>curve</th>\n",
       "      <td>0.239130</td>\n",
       "      <td>0.223529</td>\n",
       "    </tr>\n",
       "    <tr>\n",
       "      <th>discussion</th>\n",
       "      <td>0.179348</td>\n",
       "      <td>0.141176</td>\n",
       "    </tr>\n",
       "    <tr>\n",
       "      <th>information</th>\n",
       "      <td>0.152174</td>\n",
       "      <td>0.158824</td>\n",
       "    </tr>\n",
       "    <tr>\n",
       "      <th>textbook</th>\n",
       "      <td>0.134511</td>\n",
       "      <td>0.094118</td>\n",
       "    </tr>\n",
       "    <tr>\n",
       "      <th>concepts</th>\n",
       "      <td>0.115082</td>\n",
       "      <td>0.103361</td>\n",
       "    </tr>\n",
       "    <tr>\n",
       "      <th>memorization</th>\n",
       "      <td>0.000776</td>\n",
       "      <td>0.000000</td>\n",
       "    </tr>\n",
       "    <tr>\n",
       "      <th>organization</th>\n",
       "      <td>0.000000</td>\n",
       "      <td>0.000000</td>\n",
       "    </tr>\n",
       "  </tbody>\n",
       "</table>\n",
       "</div>"
      ],
      "text/plain": [
       "              201710-10703  201810-10703\n",
       "material          1.000000      0.644118\n",
       "homework          0.425951      0.223529\n",
       "lecture           0.425951      0.388235\n",
       "exams             0.364130      1.000000\n",
       "read              0.298913      0.131092\n",
       "curve             0.239130      0.223529\n",
       "discussion        0.179348      0.141176\n",
       "information       0.152174      0.158824\n",
       "textbook          0.134511      0.094118\n",
       "concepts          0.115082      0.103361\n",
       "memorization      0.000776      0.000000\n",
       "organization      0.000000      0.000000"
      ]
     },
     "execution_count": 56,
     "metadata": {},
     "output_type": "execute_result"
    },
    {
     "data": {
      "image/png": "[encoded data removed]",
      "text/plain": [
       "<Figure size 1008x504 with 2 Axes>"
      ]
     },
     "metadata": {
      "needs_background": "light"
     },
     "output_type": "display_data"
    }
   ],
   "source": [
    "# for ck in pd.unique(df['Course Key']):\n",
    "crns = ['201710-10703', '201810-10703']\n",
    "odb = pd.DataFrame()\n",
    "plt.figure(figsize=(7*len(crns),7))\n",
    "for ck in crns:\n",
    "    tousedf = df[df['Course Key'] == ck]\n",
    "    key_words = {i:[0,0,0,0,0] for i in kwk}\n",
    "    for index, row in tousedf[[\"tweet\", \"classifiedhappy\"]].iterrows():\n",
    "        update_weight((row['tweet'], row['classifiedhappy']))\n",
    "    for x in list(key_words):\n",
    "        # key_words[x][0] -= 3\n",
    "        if key_words[x] == [0,0,0,0,0]:\n",
    "            del key_words[x]\n",
    "    total_review_numbers = [0,0,0,0,0]\n",
    "    for key, value in key_words.items():\n",
    "        total_review_numbers = [i + j for i, j in zip(total_review_numbers, value)]\n",
    "\n",
    "    word_Usage = {}\n",
    "    for x, y in key_words.items():\n",
    "        word_Usage[x] = [0,0,0,0,0]\n",
    "        for i in range(len(y)):\n",
    "            if total_review_numbers[i] != 0:\n",
    "                word_Usage[x][i] = y[i] * 1.0 / total_review_numbers[i]\n",
    "            else:\n",
    "                word_Usage[x][i] = 0\n",
    "        word_Usage[x] = max(word_Usage[x])\n",
    "\n",
    "    mx = max(word_Usage.values())\n",
    "    mn = min(word_Usage.values())\n",
    "\n",
    "    for key, value in word_Usage.items():\n",
    "        word_Usage[key] = (value - mn) * 1.0 / (mx - mn)\n",
    "        \n",
    "    if (len(word_Usage) > 1):\n",
    "\n",
    "        plt.subplot(1,len(crns),crns.index(ck)+1)\n",
    "        plt.hist(word_Usage.values())\n",
    "        odb[ck] = pd.Series(word_Usage).sort_values(ascending = False)\n",
    "odb"
   ]
  },
  {
   "cell_type": "markdown",
   "metadata": {},
   "source": [
    " reading, material, and homework got a lot lower under tour\n",
    "curve and exam got a lot higher\n"
   ]
  }
 ],
 "metadata": {
  "file_extension": ".py",
  "kernelspec": {
   "display_name": "Python 3",
   "language": "python",
   "name": "python3"
  },
  "language_info": {
   "codemirror_mode": {
    "name": "ipython",
    "version": 3
   },
   "file_extension": ".py",
   "mimetype": "text/x-python",
   "name": "python",
   "nbconvert_exporter": "python",
   "pygments_lexer": "ipython3",
   "version": "3.7.4"
  },
  "mimetype": "text/x-python",
  "name": "python",
  "npconvert_exporter": "python",
  "pygments_lexer": "ipython3",
  "version": 3
 },
 "nbformat": 4,
 "nbformat_minor": 2
}
