{
 "cells": [
  {
   "cell_type": "code",
   "execution_count": 96,
   "metadata": {},
   "outputs": [],
   "source": [
    "import pandas as pd\n",
    "import numpy as np\n",
    "from collections import Counter\n",
    "import matplotlib.pyplot as plt\n",
    "%matplotlib inline\n",
    "import nltk\n",
    "from nltk.corpus import movie_reviews\n",
    "from tqdm import tqdm\n",
    "tqdm.pandas()\n",
    "\n",
    "\n",
    "\n"
   ]
  },
  {
   "cell_type": "code",
   "execution_count": 107,
   "metadata": {},
   "outputs": [],
   "source": [
    "filt = pd.read_csv(\"analysed cc - first pass.csv\")"
   ]
  },
  {
   "cell_type": "code",
   "execution_count": 124,
   "metadata": {},
   "outputs": [],
   "source": [
    "tog = filt[['classifiedhappy','classifiedlearning']]\n",
    "togdf = pd.Series(Counter([f\"{i[0]}\" + \" \" + f\"{i[1]}\" for i in tog.values])).to_frame().reset_index()\n",
    "togdf['r'] = togdf['index'].apply(lambda x: [int(i) for i in x.split(\" \")])"
   ]
  },
  {
   "cell_type": "code",
   "execution_count": 136,
   "metadata": {},
   "outputs": [],
   "source": [
    "x = [i[0] for i in togdf['r'].values]\n",
    "y = [i[1] for i in togdf['r'].values]\n",
    "s = [i for i in togdf[0]]"
   ]
  },
  {
   "cell_type": "code",
   "execution_count": 142,
   "metadata": {},
   "outputs": [
    {
     "data": {
      "text/plain": [
       "<matplotlib.collections.PathCollection at 0x138a06810>"
      ]
     },
     "execution_count": 142,
     "metadata": {},
     "output_type": "execute_result"
    },
    {
     "data": {
      "image/png": "[encoded data removed]",
      "text/plain": [
       "<Figure size 720x720 with 1 Axes>"
      ]
     },
     "metadata": {
      "needs_background": "light"
     },
     "output_type": "display_data"
    }
   ],
   "source": [
    "plt.figure(figsize = (10,10))\n",
    "plt.xlabel(\"classifiedhappy\")\n",
    "plt.ylabel(\"classifiedlearning\")\n",
    "plt.scatter(x,y,alpha = 0.7,s = s)"
   ]
  },
  {
   "cell_type": "code",
   "execution_count": 143,
   "metadata": {},
   "outputs": [
    {
     "data": {
      "text/html": [
       "<div>\n",
       "<style scoped>\n",
       "    .dataframe tbody tr th:only-of-type {\n",
       "        vertical-align: middle;\n",
       "    }\n",
       "\n",
       "    .dataframe tbody tr th {\n",
       "        vertical-align: top;\n",
       "    }\n",
       "\n",
       "    .dataframe thead th {\n",
       "        text-align: right;\n",
       "    }\n",
       "</style>\n",
       "<table border=\"1\" class=\"dataframe\">\n",
       "  <thead>\n",
       "    <tr style=\"text-align: right;\">\n",
       "      <th></th>\n",
       "      <th>index</th>\n",
       "      <th>0</th>\n",
       "      <th>r</th>\n",
       "    </tr>\n",
       "  </thead>\n",
       "  <tbody>\n",
       "    <tr>\n",
       "      <th>0</th>\n",
       "      <td>5 5</td>\n",
       "      <td>9318</td>\n",
       "      <td>[5, 5]</td>\n",
       "    </tr>\n",
       "    <tr>\n",
       "      <th>1</th>\n",
       "      <td>1 1</td>\n",
       "      <td>64</td>\n",
       "      <td>[1, 1]</td>\n",
       "    </tr>\n",
       "    <tr>\n",
       "      <th>2</th>\n",
       "      <td>4 2</td>\n",
       "      <td>654</td>\n",
       "      <td>[4, 2]</td>\n",
       "    </tr>\n",
       "    <tr>\n",
       "      <th>3</th>\n",
       "      <td>4 5</td>\n",
       "      <td>1909</td>\n",
       "      <td>[4, 5]</td>\n",
       "    </tr>\n",
       "    <tr>\n",
       "      <th>4</th>\n",
       "      <td>2 4</td>\n",
       "      <td>182</td>\n",
       "      <td>[2, 4]</td>\n",
       "    </tr>\n",
       "    <tr>\n",
       "      <th>5</th>\n",
       "      <td>5 4</td>\n",
       "      <td>1072</td>\n",
       "      <td>[5, 4]</td>\n",
       "    </tr>\n",
       "    <tr>\n",
       "      <th>6</th>\n",
       "      <td>3 2</td>\n",
       "      <td>384</td>\n",
       "      <td>[3, 2]</td>\n",
       "    </tr>\n",
       "    <tr>\n",
       "      <th>7</th>\n",
       "      <td>4 4</td>\n",
       "      <td>730</td>\n",
       "      <td>[4, 4]</td>\n",
       "    </tr>\n",
       "    <tr>\n",
       "      <th>8</th>\n",
       "      <td>5 3</td>\n",
       "      <td>278</td>\n",
       "      <td>[5, 3]</td>\n",
       "    </tr>\n",
       "    <tr>\n",
       "      <th>9</th>\n",
       "      <td>3 4</td>\n",
       "      <td>279</td>\n",
       "      <td>[3, 4]</td>\n",
       "    </tr>\n",
       "    <tr>\n",
       "      <th>10</th>\n",
       "      <td>1 2</td>\n",
       "      <td>307</td>\n",
       "      <td>[1, 2]</td>\n",
       "    </tr>\n",
       "    <tr>\n",
       "      <th>11</th>\n",
       "      <td>2 2</td>\n",
       "      <td>483</td>\n",
       "      <td>[2, 2]</td>\n",
       "    </tr>\n",
       "    <tr>\n",
       "      <th>12</th>\n",
       "      <td>3 3</td>\n",
       "      <td>85</td>\n",
       "      <td>[3, 3]</td>\n",
       "    </tr>\n",
       "    <tr>\n",
       "      <th>13</th>\n",
       "      <td>5 2</td>\n",
       "      <td>632</td>\n",
       "      <td>[5, 2]</td>\n",
       "    </tr>\n",
       "    <tr>\n",
       "      <th>14</th>\n",
       "      <td>4 1</td>\n",
       "      <td>72</td>\n",
       "      <td>[4, 1]</td>\n",
       "    </tr>\n",
       "    <tr>\n",
       "      <th>15</th>\n",
       "      <td>2 5</td>\n",
       "      <td>316</td>\n",
       "      <td>[2, 5]</td>\n",
       "    </tr>\n",
       "    <tr>\n",
       "      <th>16</th>\n",
       "      <td>1 5</td>\n",
       "      <td>697</td>\n",
       "      <td>[1, 5]</td>\n",
       "    </tr>\n",
       "    <tr>\n",
       "      <th>17</th>\n",
       "      <td>3 5</td>\n",
       "      <td>647</td>\n",
       "      <td>[3, 5]</td>\n",
       "    </tr>\n",
       "    <tr>\n",
       "      <th>18</th>\n",
       "      <td>1 4</td>\n",
       "      <td>183</td>\n",
       "      <td>[1, 4]</td>\n",
       "    </tr>\n",
       "    <tr>\n",
       "      <th>19</th>\n",
       "      <td>2 1</td>\n",
       "      <td>38</td>\n",
       "      <td>[2, 1]</td>\n",
       "    </tr>\n",
       "    <tr>\n",
       "      <th>20</th>\n",
       "      <td>5 1</td>\n",
       "      <td>120</td>\n",
       "      <td>[5, 1]</td>\n",
       "    </tr>\n",
       "    <tr>\n",
       "      <th>21</th>\n",
       "      <td>1 3</td>\n",
       "      <td>52</td>\n",
       "      <td>[1, 3]</td>\n",
       "    </tr>\n",
       "    <tr>\n",
       "      <th>22</th>\n",
       "      <td>4 3</td>\n",
       "      <td>179</td>\n",
       "      <td>[4, 3]</td>\n",
       "    </tr>\n",
       "    <tr>\n",
       "      <th>23</th>\n",
       "      <td>2 3</td>\n",
       "      <td>62</td>\n",
       "      <td>[2, 3]</td>\n",
       "    </tr>\n",
       "    <tr>\n",
       "      <th>24</th>\n",
       "      <td>3 1</td>\n",
       "      <td>35</td>\n",
       "      <td>[3, 1]</td>\n",
       "    </tr>\n",
       "  </tbody>\n",
       "</table>\n",
       "</div>"
      ],
      "text/plain": [
       "   index     0       r\n",
       "0    5 5  9318  [5, 5]\n",
       "1    1 1    64  [1, 1]\n",
       "2    4 2   654  [4, 2]\n",
       "3    4 5  1909  [4, 5]\n",
       "4    2 4   182  [2, 4]\n",
       "5    5 4  1072  [5, 4]\n",
       "6    3 2   384  [3, 2]\n",
       "7    4 4   730  [4, 4]\n",
       "8    5 3   278  [5, 3]\n",
       "9    3 4   279  [3, 4]\n",
       "10   1 2   307  [1, 2]\n",
       "11   2 2   483  [2, 2]\n",
       "12   3 3    85  [3, 3]\n",
       "13   5 2   632  [5, 2]\n",
       "14   4 1    72  [4, 1]\n",
       "15   2 5   316  [2, 5]\n",
       "16   1 5   697  [1, 5]\n",
       "17   3 5   647  [3, 5]\n",
       "18   1 4   183  [1, 4]\n",
       "19   2 1    38  [2, 1]\n",
       "20   5 1   120  [5, 1]\n",
       "21   1 3    52  [1, 3]\n",
       "22   4 3   179  [4, 3]\n",
       "23   2 3    62  [2, 3]\n",
       "24   3 1    35  [3, 1]"
      ]
     },
     "execution_count": 143,
     "metadata": {},
     "output_type": "execute_result"
    }
   ],
   "source": [
    "togdf"
   ]
  },
  {
   "cell_type": "code",
   "execution_count": 160,
   "metadata": {},
   "outputs": [],
   "source": [
    "def gettopcrn(one,two,howmany = 3):\n",
    "    t = pd.Series(Counter(filt[(filt['classifiedhappy'] == one)&(filt['classifiedlearning'] == two)]['Course Key'].values)).sort_values(ascending = False).head(howmany)\n",
    "    return t.to_dict()"
   ]
  },
  {
   "cell_type": "code",
   "execution_count": 164,
   "metadata": {},
   "outputs": [
    {
     "data": {
      "text/plain": [
       "{'201710-10703': 12,\n",
       " '201810-11327': 12,\n",
       " '201910-10144': 9,\n",
       " '201910-10765': 9,\n",
       " '201310-17684': 9}"
      ]
     },
     "execution_count": 164,
     "metadata": {},
     "output_type": "execute_result"
    }
   ],
   "source": [
    "gettopcrn(5,2,5)"
   ]
  },
  {
   "cell_type": "code",
   "execution_count": 168,
   "metadata": {},
   "outputs": [
    {
     "data": {
      "text/html": [
       "<div>\n",
       "<style scoped>\n",
       "    .dataframe tbody tr th:only-of-type {\n",
       "        vertical-align: middle;\n",
       "    }\n",
       "\n",
       "    .dataframe tbody tr th {\n",
       "        vertical-align: top;\n",
       "    }\n",
       "\n",
       "    .dataframe thead th {\n",
       "        text-align: right;\n",
       "    }\n",
       "</style>\n",
       "<table border=\"1\" class=\"dataframe\">\n",
       "  <thead>\n",
       "    <tr style=\"text-align: right;\">\n",
       "      <th></th>\n",
       "      <th>Unnamed: 0</th>\n",
       "      <th>Course Key</th>\n",
       "      <th>Comments</th>\n",
       "      <th>tweet</th>\n",
       "      <th>classifiedhappy</th>\n",
       "      <th>classifiedlearning</th>\n",
       "    </tr>\n",
       "  </thead>\n",
       "  <tbody>\n",
       "  </tbody>\n",
       "</table>\n",
       "</div>"
      ],
      "text/plain": [
       "Empty DataFrame\n",
       "Columns: [Unnamed: 0, Course Key, Comments, tweet, classifiedhappy, classifiedlearning]\n",
       "Index: []"
      ]
     },
     "execution_count": 168,
     "metadata": {},
     "output_type": "execute_result"
    }
   ],
   "source": [
    "filt[filt['Course Key'] == '201710-XJ']"
   ]
  },
  {
   "cell_type": "code",
   "execution_count": 166,
   "metadata": {},
   "outputs": [
    {
     "name": "stdout",
     "output_type": "stream",
     "text": [
      "Empty DataFrame\n",
      "Columns: [classifiedhappy, classifiedlearning]\n",
      "Index: []\n",
      "Empty DataFrame\n",
      "Columns: [classifiedhappy, classifiedlearning]\n",
      "Index: []\n",
      "Empty DataFrame\n",
      "Columns: [classifiedhappy, classifiedlearning]\n",
      "Index: []\n",
      "Empty DataFrame\n",
      "Columns: [classifiedhappy, classifiedlearning]\n",
      "Index: []\n",
      "Empty DataFrame\n",
      "Columns: [classifiedhappy, classifiedlearning]\n",
      "Index: []\n",
      "Empty DataFrame\n",
      "Columns: [classifiedhappy, classifiedlearning]\n",
      "Index: []\n"
     ]
    }
   ],
   "source": [
    "for crn in ['201710-XJ', '201720-23948',' 201810-XJ', '201820-23948', '201910-XJ', '201920-23948']:\n",
    "    print(filt[filt['Course Key'] == crn][['classifiedhappy','classifiedlearning']])"
   ]
  },
  {
   "cell_type": "code",
   "execution_count": 207,
   "metadata": {},
   "outputs": [],
   "source": [
    "tocsvsomehow = [filt[filt['Course Key'] == crn][['classifiedhappy','classifiedlearning']] for crn in [\"201720-XY\", \"201820-XW\", \"201920-XW\", \"201620-XM\", \"201620-XN\", \"201720-XY\"]]"
   ]
  },
  {
   "cell_type": "code",
   "execution_count": 208,
   "metadata": {},
   "outputs": [],
   "source": [
    "for i in range(len(tocsvsomehow)):\n",
    "    tocsvsomehow[i].reset_index(inplace=True)\n",
    "    tocsvsomehow[i]['newindx'] = [str(j) + \" CSV \" + f\"{i}\" for j in list(tocsvsomehow[i]['index'])]\n",
    "    tocsvsomehow[i].set_index( 'newindx',inplace = True)\n",
    "    tocsvsomehow[i].drop('index',inplace = True,axis = 1)"
   ]
  },
  {
   "cell_type": "code",
   "execution_count": 206,
   "metadata": {},
   "outputs": [],
   "source": [
    "pd.concat(tocsvsomehow,sort = False).to_csv(\"test.csv\")"
   ]
  },
  {
   "cell_type": "code",
   "execution_count": null,
   "metadata": {},
   "outputs": [],
   "source": []
  }
 ],
 "metadata": {
  "kernelspec": {
   "display_name": "Python 3",
   "language": "python",
   "name": "python3"
  },
  "language_info": {
   "codemirror_mode": {
    "name": "ipython",
    "version": 3
   },
   "file_extension": ".py",
   "mimetype": "text/x-python",
   "name": "python",
   "nbconvert_exporter": "python",
   "pygments_lexer": "ipython3",
   "version": "3.7.4"
  }
 },
 "nbformat": 4,
 "nbformat_minor": 2
}
