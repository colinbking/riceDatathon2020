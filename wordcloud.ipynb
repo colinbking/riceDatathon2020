{
 "cells": [
  {
   "cell_type": "code",
   "execution_count": 6,
   "metadata": {},
   "outputs": [],
   "source": [
    "import pandas as pd\n",
    "import numpy as np\n",
    "from collections import Counter\n",
    "import matplotlib.pyplot as plt\n",
    "%matplotlib inline\n",
    "import nltk\n",
    "from nltk.corpus import movie_reviews"
   ]
  },
  {
   "cell_type": "code",
   "execution_count": 2,
   "metadata": {},
   "outputs": [],
   "source": [
    "filt = pd.read_csv(\"filtered data set.csv\")"
   ]
  },
  {
   "cell_type": "code",
   "execution_count": 3,
   "metadata": {},
   "outputs": [
    {
     "data": {
      "text/html": [
       "<div>\n",
       "<style scoped>\n",
       "    .dataframe tbody tr th:only-of-type {\n",
       "        vertical-align: middle;\n",
       "    }\n",
       "\n",
       "    .dataframe tbody tr th {\n",
       "        vertical-align: top;\n",
       "    }\n",
       "\n",
       "    .dataframe thead th {\n",
       "        text-align: right;\n",
       "    }\n",
       "</style>\n",
       "<table border=\"1\" class=\"dataframe\">\n",
       "  <thead>\n",
       "    <tr style=\"text-align: right;\">\n",
       "      <th></th>\n",
       "      <th>Unnamed: 0</th>\n",
       "      <th>Course Key</th>\n",
       "      <th>Term Code</th>\n",
       "      <th>Comments</th>\n",
       "    </tr>\n",
       "  </thead>\n",
       "  <tbody>\n",
       "    <tr>\n",
       "      <th>0</th>\n",
       "      <td>2206</td>\n",
       "      <td>200710-11026</td>\n",
       "      <td>200710</td>\n",
       "      <td>3.5 out of 5 stars</td>\n",
       "    </tr>\n",
       "    <tr>\n",
       "      <th>1</th>\n",
       "      <td>2207</td>\n",
       "      <td>200710-11026</td>\n",
       "      <td>200710</td>\n",
       "      <td>A lot of reading and sometimes it was boring. ...</td>\n",
       "    </tr>\n",
       "    <tr>\n",
       "      <th>2</th>\n",
       "      <td>2208</td>\n",
       "      <td>200710-11026</td>\n",
       "      <td>200710</td>\n",
       "      <td>a lot of reading on your own part, but interes...</td>\n",
       "    </tr>\n",
       "    <tr>\n",
       "      <th>3</th>\n",
       "      <td>2209</td>\n",
       "      <td>200710-11026</td>\n",
       "      <td>200710</td>\n",
       "      <td>BIOS 201 is a great class,not only because of ...</td>\n",
       "    </tr>\n",
       "    <tr>\n",
       "      <th>4</th>\n",
       "      <td>2210</td>\n",
       "      <td>200710-11026</td>\n",
       "      <td>200710</td>\n",
       "      <td>Bios 201 was an organized, well taught class. ...</td>\n",
       "    </tr>\n",
       "  </tbody>\n",
       "</table>\n",
       "</div>"
      ],
      "text/plain": [
       "   Unnamed: 0    Course Key  Term Code  \\\n",
       "0        2206  200710-11026     200710   \n",
       "1        2207  200710-11026     200710   \n",
       "2        2208  200710-11026     200710   \n",
       "3        2209  200710-11026     200710   \n",
       "4        2210  200710-11026     200710   \n",
       "\n",
       "                                            Comments  \n",
       "0                                 3.5 out of 5 stars  \n",
       "1  A lot of reading and sometimes it was boring. ...  \n",
       "2  a lot of reading on your own part, but interes...  \n",
       "3  BIOS 201 is a great class,not only because of ...  \n",
       "4  Bios 201 was an organized, well taught class. ...  "
      ]
     },
     "execution_count": 3,
     "metadata": {},
     "output_type": "execute_result"
    }
   ],
   "source": [
    "filt.head()"
   ]
  },
  {
   "cell_type": "code",
   "execution_count": 28,
   "metadata": {},
   "outputs": [],
   "source": [
    "documents = [(set(movie_reviews.words(fileid)), category)\n",
    "              for category in movie_reviews.categories()\n",
    "              for fileid in movie_reviews.fileids(category)]"
   ]
  },
  {
   "cell_type": "code",
   "execution_count": 29,
   "metadata": {},
   "outputs": [],
   "source": [
    "movreviews = pd.DataFrame(documents)\n",
    "movreviews.columns = ['allw','cat']"
   ]
  },
  {
   "cell_type": "code",
   "execution_count": null,
   "metadata": {},
   "outputs": [],
   "source": [
    "allw = Counter(w.lower() for w in movie_reviews.words() if len(w) > 2)\n",
    "topw = set(pd.Series(allw).sort_values(ascending = False).index[:2000])"
   ]
  },
  {
   "cell_type": "code",
   "execution_count": 41,
   "metadata": {},
   "outputs": [],
   "source": [
    "movreviews['widf'] = movreviews['allw'].apply(lambda kw: {w:(True if w in kw else False) for w in topw})\n",
    "forc = movreviews[['widf','cat']]\n",
    "forctuple = list(forc.itertuples(index=False, name=None))"
   ]
  },
  {
   "cell_type": "code",
   "execution_count": 42,
   "metadata": {},
   "outputs": [],
   "source": [
    "train_set, test_set = forctuple[100:], forctuple[:100]\n",
    "classifier = nltk.NaiveBayesClassifier.train(train_set)"
   ]
  },
  {
   "cell_type": "code",
   "execution_count": 43,
   "metadata": {},
   "outputs": [
    {
     "name": "stdout",
     "output_type": "stream",
     "text": [
      "0.86\n"
     ]
    }
   ],
   "source": [
    "print(nltk.classify.accuracy(classifier, test_set))"
   ]
  },
  {
   "cell_type": "code",
   "execution_count": 54,
   "metadata": {},
   "outputs": [],
   "source": [
    "filt[\"clist\"] = filt.Comments.apply(lambda x: x.split(\" \"))"
   ]
  },
  {
   "cell_type": "code",
   "execution_count": 56,
   "metadata": {},
   "outputs": [],
   "source": [
    "filtc = filt.drop(\"Unnamed: 0\",axis = 1)\n",
    "filtc['widf'] = filtc['clist'].apply(lambda kw: {w:(True if w in kw else False) for w in topw})"
   ]
  },
  {
   "cell_type": "code",
   "execution_count": 62,
   "metadata": {},
   "outputs": [],
   "source": [
    "filtc['classified'] = filtc['widf'].apply(lambda wv: classifier.classify(wv))"
   ]
  },
  {
   "cell_type": "code",
   "execution_count": 70,
   "metadata": {},
   "outputs": [
    {
     "name": "stdout",
     "output_type": "stream",
     "text": [
      "Most Informative Features\n",
      "             outstanding = True              pos : neg    =     10.4 : 1.0\n",
      "                  seagal = True              neg : pos    =      8.7 : 1.0\n",
      "                   mulan = True              pos : neg    =      8.1 : 1.0\n",
      "             wonderfully = True              pos : neg    =      6.3 : 1.0\n",
      "                   damon = True              pos : neg    =      5.7 : 1.0\n",
      "                    lame = True              neg : pos    =      5.6 : 1.0\n",
      "                  wasted = True              neg : pos    =      5.6 : 1.0\n",
      "                   awful = True              neg : pos    =      5.4 : 1.0\n",
      "                   flynt = True              pos : neg    =      5.1 : 1.0\n",
      "              ridiculous = True              neg : pos    =      5.1 : 1.0\n",
      "                  poorly = True              neg : pos    =      4.9 : 1.0\n",
      "                   waste = True              neg : pos    =      4.9 : 1.0\n",
      "                    jedi = True              pos : neg    =      4.8 : 1.0\n",
      "                 unfunny = True              neg : pos    =      4.3 : 1.0\n",
      "                   worst = True              neg : pos    =      4.3 : 1.0\n"
     ]
    }
   ],
   "source": [
    "classifier.show_most_informative_features(15)"
   ]
  },
  {
   "cell_type": "code",
   "execution_count": 67,
   "metadata": {},
   "outputs": [
    {
     "data": {
      "text/html": [
       "<div>\n",
       "<style scoped>\n",
       "    .dataframe tbody tr th:only-of-type {\n",
       "        vertical-align: middle;\n",
       "    }\n",
       "\n",
       "    .dataframe tbody tr th {\n",
       "        vertical-align: top;\n",
       "    }\n",
       "\n",
       "    .dataframe thead th {\n",
       "        text-align: right;\n",
       "    }\n",
       "</style>\n",
       "<table border=\"1\" class=\"dataframe\">\n",
       "  <thead>\n",
       "    <tr style=\"text-align: right;\">\n",
       "      <th></th>\n",
       "      <th>Comments</th>\n",
       "      <th>classified</th>\n",
       "    </tr>\n",
       "  </thead>\n",
       "  <tbody>\n",
       "    <tr>\n",
       "      <th>0</th>\n",
       "      <td>3.5 out of 5 stars</td>\n",
       "      <td>neg</td>\n",
       "    </tr>\n",
       "    <tr>\n",
       "      <th>1</th>\n",
       "      <td>A lot of reading and sometimes it was boring. Especially when there was two different people with two very different personalities where teaching it. some of the concepts were interesting, some were incredibly boring and seemed pointless. I would often say to myself that \"I dont need to know thi...</td>\n",
       "      <td>neg</td>\n",
       "    </tr>\n",
       "    <tr>\n",
       "      <th>2</th>\n",
       "      <td>a lot of reading on your own part, but interesting overall</td>\n",
       "      <td>neg</td>\n",
       "    </tr>\n",
       "    <tr>\n",
       "      <th>3</th>\n",
       "      <td>BIOS 201 is a great class,not only because of the material it covers, but because the class has a very relaxed atmosphere. The discussion sessions are helpful, but sometimes the preparation forms were so tedious, it didn't foster enough conversation. However it does provide a structured way for ...</td>\n",
       "      <td>neg</td>\n",
       "    </tr>\n",
       "    <tr>\n",
       "      <th>4</th>\n",
       "      <td>Bios 201 was an organized, well taught class. At times a lecture method of teaching made it difficult to follow in such a large class, but mostly this was not a problem. Also, discussion sessions helped us understand certain topics in greater detail and allowed us to discuss them in a more perso...</td>\n",
       "      <td>neg</td>\n",
       "    </tr>\n",
       "    <tr>\n",
       "      <th>5</th>\n",
       "      <td>Dense material and too much focus on minute details.  Good professors though.</td>\n",
       "      <td>neg</td>\n",
       "    </tr>\n",
       "    <tr>\n",
       "      <th>6</th>\n",
       "      <td>Discussion sections good, but perhaps overused (too many weeks out of the semester). \"What's new\" a nice feature.</td>\n",
       "      <td>neg</td>\n",
       "    </tr>\n",
       "    <tr>\n",
       "      <th>7</th>\n",
       "      <td>Dr. Gustin is so funny. I loved his lectures.</td>\n",
       "      <td>neg</td>\n",
       "    </tr>\n",
       "    <tr>\n",
       "      <th>8</th>\n",
       "      <td>Extremely difficult course.  I would prepare for tests by studying for at least 20 hourse in the week leading up and my graded does not \\r\\nreflect at all how hard I worked in this course.  The hardest course next to Chemistry that I have ever taken in my life.  I do not appreciate\\r\\nthe fact t...</td>\n",
       "      <td>neg</td>\n",
       "    </tr>\n",
       "    <tr>\n",
       "      <th>9</th>\n",
       "      <td>Gustin is an amazing teacher. His lectures are insightful and interesting enough to keep me focused. He explains the topics with several different methods (such as writing on the chalkboard, handouts, verbal communication...) and this helps me understand. Gustin also has something called \"The Wh...</td>\n",
       "      <td>neg</td>\n",
       "    </tr>\n",
       "  </tbody>\n",
       "</table>\n",
       "</div>"
      ],
      "text/plain": [
       "                                                                                                                                                                                                                                                                                                      Comments  \\\n",
       "0                                                                                                                                                                                                                                                                                           3.5 out of 5 stars   \n",
       "1  A lot of reading and sometimes it was boring. Especially when there was two different people with two very different personalities where teaching it. some of the concepts were interesting, some were incredibly boring and seemed pointless. I would often say to myself that \"I dont need to know thi...   \n",
       "2                                                                                                                                                                                                                                                   a lot of reading on your own part, but interesting overall   \n",
       "3  BIOS 201 is a great class,not only because of the material it covers, but because the class has a very relaxed atmosphere. The discussion sessions are helpful, but sometimes the preparation forms were so tedious, it didn't foster enough conversation. However it does provide a structured way for ...   \n",
       "4  Bios 201 was an organized, well taught class. At times a lecture method of teaching made it difficult to follow in such a large class, but mostly this was not a problem. Also, discussion sessions helped us understand certain topics in greater detail and allowed us to discuss them in a more perso...   \n",
       "5                                                                                                                                                                                                                                Dense material and too much focus on minute details.  Good professors though.   \n",
       "6                                                                                                                                                                                            Discussion sections good, but perhaps overused (too many weeks out of the semester). \"What's new\" a nice feature.   \n",
       "7                                                                                                                                                                                                                                                               Dr. Gustin is so funny. I loved his lectures.    \n",
       "8  Extremely difficult course.  I would prepare for tests by studying for at least 20 hourse in the week leading up and my graded does not \\r\\nreflect at all how hard I worked in this course.  The hardest course next to Chemistry that I have ever taken in my life.  I do not appreciate\\r\\nthe fact t...   \n",
       "9  Gustin is an amazing teacher. His lectures are insightful and interesting enough to keep me focused. He explains the topics with several different methods (such as writing on the chalkboard, handouts, verbal communication...) and this helps me understand. Gustin also has something called \"The Wh...   \n",
       "\n",
       "  classified  \n",
       "0        neg  \n",
       "1        neg  \n",
       "2        neg  \n",
       "3        neg  \n",
       "4        neg  \n",
       "5        neg  \n",
       "6        neg  \n",
       "7        neg  \n",
       "8        neg  \n",
       "9        neg  "
      ]
     },
     "execution_count": 67,
     "metadata": {},
     "output_type": "execute_result"
    }
   ],
   "source": [
    "pd.set_option('max_colwidth', 300)\n",
    "filtc[[\"Comments\",\"classified\"]].head(10)"
   ]
  },
  {
   "cell_type": "code",
   "execution_count": null,
   "metadata": {},
   "outputs": [],
   "source": []
  }
 ],
 "metadata": {
  "kernelspec": {
   "display_name": "Python 3",
   "language": "python",
   "name": "python3"
  },
  "language_info": {
   "codemirror_mode": {
    "name": "ipython",
    "version": 3
   },
   "file_extension": ".py",
   "mimetype": "text/x-python",
   "name": "python",
   "nbconvert_exporter": "python",
   "pygments_lexer": "ipython3",
   "version": "3.7.4"
  }
 },
 "nbformat": 4,
 "nbformat_minor": 2
}
