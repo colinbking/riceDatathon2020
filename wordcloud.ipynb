{
 "cells": [
  {
   "cell_type": "code",
   "execution_count": 96,
   "metadata": {},
   "outputs": [],
   "source": [
    "import pandas as pd\n",
    "import numpy as np\n",
    "from collections import Counter\n",
    "import matplotlib.pyplot as plt\n",
    "%matplotlib inline\n",
    "import nltk\n",
    "from nltk.corpus import movie_reviews\n",
    "from tqdm import tqdm\n",
    "tqdm.pandas()\n",
    "\n",
    "\n",
    "\n"
   ]
  },
  {
   "cell_type": "code",
   "execution_count": 2,
   "metadata": {},
   "outputs": [],
   "source": [
    "filt = pd.read_csv(\"filtered data set.csv\")"
   ]
  },
  {
   "cell_type": "code",
   "execution_count": 3,
   "metadata": {},
   "outputs": [
    {
     "data": {
      "text/html": [
       "<div>\n",
       "<style scoped>\n",
       "    .dataframe tbody tr th:only-of-type {\n",
       "        vertical-align: middle;\n",
       "    }\n",
       "\n",
       "    .dataframe tbody tr th {\n",
       "        vertical-align: top;\n",
       "    }\n",
       "\n",
       "    .dataframe thead th {\n",
       "        text-align: right;\n",
       "    }\n",
       "</style>\n",
       "<table border=\"1\" class=\"dataframe\">\n",
       "  <thead>\n",
       "    <tr style=\"text-align: right;\">\n",
       "      <th></th>\n",
       "      <th>Unnamed: 0</th>\n",
       "      <th>Course Key</th>\n",
       "      <th>Term Code</th>\n",
       "      <th>Comments</th>\n",
       "    </tr>\n",
       "  </thead>\n",
       "  <tbody>\n",
       "    <tr>\n",
       "      <th>0</th>\n",
       "      <td>2206</td>\n",
       "      <td>200710-11026</td>\n",
       "      <td>200710</td>\n",
       "      <td>3.5 out of 5 stars</td>\n",
       "    </tr>\n",
       "    <tr>\n",
       "      <th>1</th>\n",
       "      <td>2207</td>\n",
       "      <td>200710-11026</td>\n",
       "      <td>200710</td>\n",
       "      <td>A lot of reading and sometimes it was boring. ...</td>\n",
       "    </tr>\n",
       "    <tr>\n",
       "      <th>2</th>\n",
       "      <td>2208</td>\n",
       "      <td>200710-11026</td>\n",
       "      <td>200710</td>\n",
       "      <td>a lot of reading on your own part, but interes...</td>\n",
       "    </tr>\n",
       "    <tr>\n",
       "      <th>3</th>\n",
       "      <td>2209</td>\n",
       "      <td>200710-11026</td>\n",
       "      <td>200710</td>\n",
       "      <td>BIOS 201 is a great class,not only because of ...</td>\n",
       "    </tr>\n",
       "    <tr>\n",
       "      <th>4</th>\n",
       "      <td>2210</td>\n",
       "      <td>200710-11026</td>\n",
       "      <td>200710</td>\n",
       "      <td>Bios 201 was an organized, well taught class. ...</td>\n",
       "    </tr>\n",
       "  </tbody>\n",
       "</table>\n",
       "</div>"
      ],
      "text/plain": [
       "   Unnamed: 0    Course Key  Term Code  \\\n",
       "0        2206  200710-11026     200710   \n",
       "1        2207  200710-11026     200710   \n",
       "2        2208  200710-11026     200710   \n",
       "3        2209  200710-11026     200710   \n",
       "4        2210  200710-11026     200710   \n",
       "\n",
       "                                            Comments  \n",
       "0                                 3.5 out of 5 stars  \n",
       "1  A lot of reading and sometimes it was boring. ...  \n",
       "2  a lot of reading on your own part, but interes...  \n",
       "3  BIOS 201 is a great class,not only because of ...  \n",
       "4  Bios 201 was an organized, well taught class. ...  "
      ]
     },
     "execution_count": 3,
     "metadata": {},
     "output_type": "execute_result"
    }
   ],
   "source": [
    "filt.head()"
   ]
  },
  {
   "cell_type": "code",
   "execution_count": 28,
   "metadata": {},
   "outputs": [],
   "source": [
    "documents = [(set(movie_reviews.words(fileid)), category)\n",
    "              for category in movie_reviews.categories()\n",
    "              for fileid in movie_reviews.fileids(category)]"
   ]
  },
  {
   "cell_type": "code",
   "execution_count": 29,
   "metadata": {},
   "outputs": [],
   "source": [
    "movreviews = pd.DataFrame(documents)\n",
    "movreviews.columns = ['allw','cat']"
   ]
  },
  {
   "cell_type": "code",
   "execution_count": null,
   "metadata": {},
   "outputs": [],
   "source": [
    "allw = Counter(w.lower() for w in movie_reviews.words() if len(w) > 2)\n",
    "topw = set(pd.Series(allw).sort_values(ascending = False).index[:2000])"
   ]
  },
  {
   "cell_type": "code",
   "execution_count": 87,
   "metadata": {},
   "outputs": [],
   "source": [
    "huh = pd.read_csv(\"keyWords.csv\")[[\"Happy\",\"Unhappy\"]]\n",
    "topw = list(huh[\"Happy\"].values) + list(huh[\"Unhappy\"].values)"
   ]
  },
  {
   "cell_type": "code",
   "execution_count": 88,
   "metadata": {},
   "outputs": [],
   "source": [
    "movreviews['widf'] = movreviews['allw'].apply(lambda kw: {w:(True if w in kw else False) for w in topw})\n",
    "forc = movreviews[['widf','cat']]\n",
    "forctuple = list(forc.itertuples(index=False, name=None))"
   ]
  },
  {
   "cell_type": "code",
   "execution_count": 89,
   "metadata": {},
   "outputs": [],
   "source": [
    "train_set, test_set = forctuple[100:], forctuple[:100]\n",
    "classifier = nltk.NaiveBayesClassifier.train(train_set)"
   ]
  },
  {
   "cell_type": "code",
   "execution_count": 90,
   "metadata": {},
   "outputs": [
    {
     "name": "stdout",
     "output_type": "stream",
     "text": [
      "0.88\n"
     ]
    }
   ],
   "source": [
    "print(nltk.classify.accuracy(classifier, test_set))"
   ]
  },
  {
   "cell_type": "code",
   "execution_count": 91,
   "metadata": {},
   "outputs": [],
   "source": [
    "filt[\"clist\"] = filt.Comments.apply(lambda x: x.split(\" \"))\n",
    "\n",
    "filtc = filt.drop(\"Unnamed: 0\",axis = 1)\n",
    "filtc['widf'] = filtc['clist'].apply(lambda kw: {w:(True if w in kw else False) for w in topw})\n",
    "\n",
    "filtc['classified'] = filtc['widf'].apply(lambda wv: classifier.classify(wv))"
   ]
  },
  {
   "cell_type": "code",
   "execution_count": 94,
   "metadata": {},
   "outputs": [
    {
     "name": "stdout",
     "output_type": "stream",
     "text": [
      "Most Informative Features\n",
      "               insulting = True              neg : pos    =     11.8 : 1.0\n",
      "                   sucks = True              neg : pos    =     11.3 : 1.0\n",
      "              astounding = True              pos : neg    =     11.1 : 1.0\n",
      "               ludicrous = True              neg : pos    =     11.0 : 1.0\n",
      "                  regard = True              pos : neg    =     10.5 : 1.0\n",
      "             outstanding = True              pos : neg    =     10.4 : 1.0\n",
      "          excruciatingly = True              neg : pos    =     10.0 : 1.0\n",
      "              incoherent = True              neg : pos    =     10.0 : 1.0\n",
      "             fascination = True              pos : neg    =      9.9 : 1.0\n",
      "                seamless = True              pos : neg    =      9.3 : 1.0\n",
      "                  hatred = True              pos : neg    =      9.3 : 1.0\n",
      "               illogical = True              neg : pos    =      9.3 : 1.0\n",
      "                  feeble = True              neg : pos    =      9.3 : 1.0\n",
      "                fairness = True              neg : pos    =      9.3 : 1.0\n",
      "                   anger = True              pos : neg    =      9.1 : 1.0\n"
     ]
    }
   ],
   "source": [
    "classifier.show_most_informative_features(15)"
   ]
  },
  {
   "cell_type": "code",
   "execution_count": 105,
   "metadata": {
    "scrolled": true
   },
   "outputs": [
    {
     "data": {
      "text/html": [
       "<div>\n",
       "<style scoped>\n",
       "    .dataframe tbody tr th:only-of-type {\n",
       "        vertical-align: middle;\n",
       "    }\n",
       "\n",
       "    .dataframe tbody tr th {\n",
       "        vertical-align: top;\n",
       "    }\n",
       "\n",
       "    .dataframe thead th {\n",
       "        text-align: right;\n",
       "    }\n",
       "</style>\n",
       "<table border=\"1\" class=\"dataframe\">\n",
       "  <thead>\n",
       "    <tr style=\"text-align: right;\">\n",
       "      <th></th>\n",
       "      <th>Comments</th>\n",
       "      <th>classified</th>\n",
       "    </tr>\n",
       "  </thead>\n",
       "  <tbody>\n",
       "    <tr>\n",
       "      <th>0</th>\n",
       "      <td>3.5 out of 5 stars</td>\n",
       "      <td>neg</td>\n",
       "    </tr>\n",
       "    <tr>\n",
       "      <th>1</th>\n",
       "      <td>A lot of reading and sometimes it was boring. Especially when there was two different people with two very different personalities where teaching it. some of the concepts were interesting, some were incredibly boring and seemed pointless. I would often say to myself that \"I dont need to know thi...</td>\n",
       "      <td>neg</td>\n",
       "    </tr>\n",
       "    <tr>\n",
       "      <th>2</th>\n",
       "      <td>a lot of reading on your own part, but interesting overall</td>\n",
       "      <td>neg</td>\n",
       "    </tr>\n",
       "    <tr>\n",
       "      <th>3</th>\n",
       "      <td>BIOS 201 is a great class,not only because of the material it covers, but because the class has a very relaxed atmosphere. The discussion sessions are helpful, but sometimes the preparation forms were so tedious, it didn't foster enough conversation. However it does provide a structured way for ...</td>\n",
       "      <td>neg</td>\n",
       "    </tr>\n",
       "    <tr>\n",
       "      <th>4</th>\n",
       "      <td>Bios 201 was an organized, well taught class. At times a lecture method of teaching made it difficult to follow in such a large class, but mostly this was not a problem. Also, discussion sessions helped us understand certain topics in greater detail and allowed us to discuss them in a more perso...</td>\n",
       "      <td>neg</td>\n",
       "    </tr>\n",
       "  </tbody>\n",
       "</table>\n",
       "</div>"
      ],
      "text/plain": [
       "                                                                                                                                                                                                                                                                                                      Comments  \\\n",
       "0                                                                                                                                                                                                                                                                                           3.5 out of 5 stars   \n",
       "1  A lot of reading and sometimes it was boring. Especially when there was two different people with two very different personalities where teaching it. some of the concepts were interesting, some were incredibly boring and seemed pointless. I would often say to myself that \"I dont need to know thi...   \n",
       "2                                                                                                                                                                                                                                                   a lot of reading on your own part, but interesting overall   \n",
       "3  BIOS 201 is a great class,not only because of the material it covers, but because the class has a very relaxed atmosphere. The discussion sessions are helpful, but sometimes the preparation forms were so tedious, it didn't foster enough conversation. However it does provide a structured way for ...   \n",
       "4  Bios 201 was an organized, well taught class. At times a lecture method of teaching made it difficult to follow in such a large class, but mostly this was not a problem. Also, discussion sessions helped us understand certain topics in greater detail and allowed us to discuss them in a more perso...   \n",
       "\n",
       "  classified  \n",
       "0        neg  \n",
       "1        neg  \n",
       "2        neg  \n",
       "3        neg  \n",
       "4        neg  "
      ]
     },
     "execution_count": 105,
     "metadata": {},
     "output_type": "execute_result"
    }
   ],
   "source": [
    "pd.set_option('max_colwidth', 300)\n",
    "filtc[[\"Comments\",\"classified\"]][filtc[\"classified\"] == \"neg\"].head()"
   ]
  },
  {
   "cell_type": "code",
   "execution_count": 103,
   "metadata": {},
   "outputs": [
    {
     "data": {
      "text/plain": [
       "94"
      ]
     },
     "execution_count": 103,
     "metadata": {},
     "output_type": "execute_result"
    }
   ],
   "source": [
    "len(filtc[[\"Comments\",\"classified\"]][filtc[\"classified\"] == \"pos\"])"
   ]
  },
  {
   "cell_type": "code",
   "execution_count": 104,
   "metadata": {},
   "outputs": [
    {
     "data": {
      "text/plain": [
       "18684"
      ]
     },
     "execution_count": 104,
     "metadata": {},
     "output_type": "execute_result"
    }
   ],
   "source": [
    "len(filtc[[\"Comments\",\"classified\"]][filtc[\"classified\"] == \"neg\"])"
   ]
  },
  {
   "cell_type": "code",
   "execution_count": 106,
   "metadata": {},
   "outputs": [
    {
     "data": {
      "text/plain": [
       "False"
      ]
     },
     "execution_count": 106,
     "metadata": {},
     "output_type": "execute_result"
    }
   ],
   "source": [
    "'but' in ['buttt','butttttt']"
   ]
  },
  {
   "cell_type": "code",
   "execution_count": null,
   "metadata": {},
   "outputs": [],
   "source": []
  }
 ],
 "metadata": {
  "kernelspec": {
   "display_name": "Python 3",
   "language": "python",
   "name": "python3"
  },
  "language_info": {
   "codemirror_mode": {
    "name": "ipython",
    "version": 3
   },
   "file_extension": ".py",
   "mimetype": "text/x-python",
   "name": "python",
   "nbconvert_exporter": "python",
   "pygments_lexer": "ipython3",
   "version": "3.7.4"
  }
 },
 "nbformat": 4,
 "nbformat_minor": 2
}
