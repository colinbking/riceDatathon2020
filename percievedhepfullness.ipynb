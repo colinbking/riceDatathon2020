{
 "cells": [
  {
   "cell_type": "code",
   "execution_count": 1,
   "metadata": {},
   "outputs": [],
   "source": [
    "import pandas as pd\n",
    "import numpy as np\n",
    "from collections import Counter\n",
    "import matplotlib.pyplot as plt\n",
    "%matplotlib inline\n",
    "import nltk\n",
    "from nltk.corpus import movie_reviews\n",
    "from tqdm import tqdm\n",
    "tqdm.pandas()"
   ]
  },
  {
   "cell_type": "code",
   "execution_count": 5,
   "metadata": {},
   "outputs": [],
   "source": [
    "filt = pd.read_csv(\"analysed cc - first pass.csv\")\n",
    "kwk = ['lecture',\n",
    " 'material',\n",
    " 'information',\n",
    " 'organization',\n",
    " 'disorganized',\n",
    " 'concepts',\n",
    " 'discussion',\n",
    " 'memorization',\n",
    " 'workload',\n",
    " 'read',\n",
    " 'exams',\n",
    " 'presentation',\n",
    " 'homework',\n",
    " 'labs',\n",
    " 'textbook',\n",
    " 'curve',\n",
    " 'recitation']"
   ]
  },
  {
   "cell_type": "code",
   "execution_count": 40,
   "metadata": {},
   "outputs": [],
   "source": [
    "filt['tftemp'] = filt.Comments.apply(lambda x: len(x) > 10)\n",
    "cfilt = filt[filt['tftemp'] == True]"
   ]
  },
  {
   "cell_type": "code",
   "execution_count": 41,
   "metadata": {},
   "outputs": [
    {
     "data": {
      "text/html": [
       "<div>\n",
       "<style scoped>\n",
       "    .dataframe tbody tr th:only-of-type {\n",
       "        vertical-align: middle;\n",
       "    }\n",
       "\n",
       "    .dataframe tbody tr th {\n",
       "        vertical-align: top;\n",
       "    }\n",
       "\n",
       "    .dataframe thead th {\n",
       "        text-align: right;\n",
       "    }\n",
       "</style>\n",
       "<table border=\"1\" class=\"dataframe\">\n",
       "  <thead>\n",
       "    <tr style=\"text-align: right;\">\n",
       "      <th></th>\n",
       "      <th>Unnamed: 0</th>\n",
       "      <th>Course Key</th>\n",
       "      <th>Comments</th>\n",
       "      <th>tweet</th>\n",
       "      <th>classifiedhappy</th>\n",
       "      <th>classifiedlearning</th>\n",
       "      <th>tftemp</th>\n",
       "    </tr>\n",
       "  </thead>\n",
       "  <tbody>\n",
       "    <tr>\n",
       "      <th>0</th>\n",
       "      <td>0</td>\n",
       "      <td>200710-11026</td>\n",
       "      <td>3.5 out of 5 stars</td>\n",
       "      <td>['3.5', 'out', 'of', '5', 'star']</td>\n",
       "      <td>5</td>\n",
       "      <td>5</td>\n",
       "      <td>True</td>\n",
       "    </tr>\n",
       "    <tr>\n",
       "      <th>1</th>\n",
       "      <td>1</td>\n",
       "      <td>200710-11026</td>\n",
       "      <td>A lot of reading and sometimes it was boring. ...</td>\n",
       "      <td>['a', 'lot', 'of', 'read', 'and', 'sometimes',...</td>\n",
       "      <td>1</td>\n",
       "      <td>1</td>\n",
       "      <td>True</td>\n",
       "    </tr>\n",
       "    <tr>\n",
       "      <th>2</th>\n",
       "      <td>2</td>\n",
       "      <td>200710-11026</td>\n",
       "      <td>a lot of reading on your own part, but interes...</td>\n",
       "      <td>['a', 'lot', 'of', 'read', 'on', 'your', 'own'...</td>\n",
       "      <td>5</td>\n",
       "      <td>5</td>\n",
       "      <td>True</td>\n",
       "    </tr>\n",
       "    <tr>\n",
       "      <th>3</th>\n",
       "      <td>3</td>\n",
       "      <td>200710-11026</td>\n",
       "      <td>BIOS 201 is a great class,not only because of ...</td>\n",
       "      <td>['bios', '201', 'be', 'a', 'great', 'class', '...</td>\n",
       "      <td>4</td>\n",
       "      <td>2</td>\n",
       "      <td>True</td>\n",
       "    </tr>\n",
       "    <tr>\n",
       "      <th>4</th>\n",
       "      <td>4</td>\n",
       "      <td>200710-11026</td>\n",
       "      <td>Bios 201 was an organized, well taught class. ...</td>\n",
       "      <td>['201', 'be', 'an', 'organize', 'well', 'teach...</td>\n",
       "      <td>4</td>\n",
       "      <td>2</td>\n",
       "      <td>True</td>\n",
       "    </tr>\n",
       "  </tbody>\n",
       "</table>\n",
       "</div>"
      ],
      "text/plain": [
       "   Unnamed: 0    Course Key  \\\n",
       "0           0  200710-11026   \n",
       "1           1  200710-11026   \n",
       "2           2  200710-11026   \n",
       "3           3  200710-11026   \n",
       "4           4  200710-11026   \n",
       "\n",
       "                                            Comments  \\\n",
       "0                                 3.5 out of 5 stars   \n",
       "1  A lot of reading and sometimes it was boring. ...   \n",
       "2  a lot of reading on your own part, but interes...   \n",
       "3  BIOS 201 is a great class,not only because of ...   \n",
       "4  Bios 201 was an organized, well taught class. ...   \n",
       "\n",
       "                                               tweet  classifiedhappy  \\\n",
       "0                  ['3.5', 'out', 'of', '5', 'star']                5   \n",
       "1  ['a', 'lot', 'of', 'read', 'and', 'sometimes',...                1   \n",
       "2  ['a', 'lot', 'of', 'read', 'on', 'your', 'own'...                5   \n",
       "3  ['bios', '201', 'be', 'a', 'great', 'class', '...                4   \n",
       "4  ['201', 'be', 'an', 'organize', 'well', 'teach...                4   \n",
       "\n",
       "   classifiedlearning  tftemp  \n",
       "0                   5    True  \n",
       "1                   1    True  \n",
       "2                   5    True  \n",
       "3                   2    True  \n",
       "4                   2    True  "
      ]
     },
     "execution_count": 41,
     "metadata": {},
     "output_type": "execute_result"
    }
   ],
   "source": [
    "cfilt.head()"
   ]
  },
  {
   "cell_type": "code",
   "execution_count": 60,
   "metadata": {
    "scrolled": true
   },
   "outputs": [],
   "source": [
    "u = pd.unique(filt[\"Course Key\"])\n",
    "ux = pd.Series(Counter([ua.split(\"-\")[1] for ua in u])).sort_values(ascending = False)"
   ]
  },
  {
   "cell_type": "code",
   "execution_count": 63,
   "metadata": {},
   "outputs": [
    {
     "data": {
      "text/plain": [
       "'20119'"
      ]
     },
     "execution_count": 63,
     "metadata": {},
     "output_type": "execute_result"
    }
   ],
   "source": [
    "ux.keys()[0]"
   ]
  },
  {
   "cell_type": "code",
   "execution_count": 76,
   "metadata": {},
   "outputs": [
    {
     "data": {
      "text/plain": [
       "['201510-10703', '201610-10703', '201710-10703', '201810-10703']"
      ]
     },
     "execution_count": 76,
     "metadata": {},
     "output_type": "execute_result"
    }
   ],
   "source": [
    "[i for i in u if ux.keys()[10] in i]"
   ]
  },
  {
   "cell_type": "code",
   "execution_count": 102,
   "metadata": {},
   "outputs": [],
   "source": [
    "import copy\n",
    "def cours(crn):\n",
    "    courseeval = copy.deepcopy(filt[filt[\"Course Key\"] == crn])\n",
    "    courseeval['vec'] = courseeval['Comments'].progress_apply(lambda kw: {w:(kw.count(w)) for w in kwk})\n",
    "    courseeval['veceval'] = courseeval.vec.progress_apply(lambda d: sum(list(d.values())))\n",
    "    return courseeval.sort_values(['veceval'],ascending = False)[[\"Comments\",\"veceval\"]].head(5)"
   ]
  },
  {
   "cell_type": "code",
   "execution_count": 105,
   "metadata": {},
   "outputs": [
    {
     "name": "stderr",
     "output_type": "stream",
     "text": [
      "100%|██████████| 108/108 [00:00<00:00, 52127.14it/s]\n",
      "100%|██████████| 108/108 [00:00<00:00, 140985.01it/s]\n"
     ]
    },
    {
     "data": {
      "text/html": [
       "<div>\n",
       "<style scoped>\n",
       "    .dataframe tbody tr th:only-of-type {\n",
       "        vertical-align: middle;\n",
       "    }\n",
       "\n",
       "    .dataframe tbody tr th {\n",
       "        vertical-align: top;\n",
       "    }\n",
       "\n",
       "    .dataframe thead th {\n",
       "        text-align: right;\n",
       "    }\n",
       "</style>\n",
       "<table border=\"1\" class=\"dataframe\">\n",
       "  <thead>\n",
       "    <tr style=\"text-align: right;\">\n",
       "      <th></th>\n",
       "      <th>Comments</th>\n",
       "      <th>veceval</th>\n",
       "    </tr>\n",
       "  </thead>\n",
       "  <tbody>\n",
       "    <tr>\n",
       "      <th>15145</th>\n",
       "      <td>I really did not enjoy the style of the lectures.  300 of us stuffed into the same enormous lecture hall made for a terrible and impersonal experience compared to gen chem.  Additionally, lectures were fast-paced to an absurd degree.  I am pretty sure Tour himself knew at times that there was no possible way we could actually be absorbing everything he was trying to teach because of the speed he was going at.  Class is essentially a complete rehash of exactly what's in the textbook, which made attending even more pointless - instead of trying teach each lecture at a pace we can't follow anyway, how about using the time more productively and teaching us to apply the concepts perhaps?  Homework consisted of a HUGE amount (40-50 for each of the 14 chapters) of \"optional\" problems from the textbook and you'd at least need to do a good majority of them to get a handle on the material, and a fair amount of each exam consists of these homework problems, too.  Tour does not curve for As, so you actually need a raw 90% to get an A-, and unlike gen chem (which was also uncurved), you don't have extra credit participation points / redemption points to fall back on, so obtaining an A-/A in this class is an insane feat and much harder than in orgo classes with other teachers, which is kinda unfair.  If you want to do well, you will need to spend an immense amount of time on this class - I usually could never go a single day without doing some sort of orgo work or else I'd fall behind.  If you are able to organize yourself very well and really be on top of things in this class, you will be able to do well.  Just don't fall behind or you're screwed.</td>\n",
       "      <td>11</td>\n",
       "    </tr>\n",
       "    <tr>\n",
       "      <th>15206</th>\n",
       "      <td>This class was completely self-taught, which was very challenging for me as organic chemistry was really different from any material I had ever learned before. In theory Professor Tour makes the class really easy by putting lots of previously seen questions on all of the exams. However, since he doesn't really teach and you have to learn the concepts on your own, the exams are still very difficult. The lectures are literally just him reading the powerpoint that the author of the textbook made and so you don't learn anything from them. I found I did better when I didn't waste time going to lecture and just focused on reading the chapters myself and trying to teach myself the material.</td>\n",
       "      <td>10</td>\n",
       "    </tr>\n",
       "    <tr>\n",
       "      <th>15179</th>\n",
       "      <td>Orgo was a massive disappointment for me. While I recognize that what I write has no impact on anything, I'm required to write one of these anyway. I think most of my problems with the course stemmed from Dr. Tour, frankly. Orgo is definitely an interesting subject, but the way in which it was taught/assessed this semester encouraged busywork over understanding. When 50% of your exams are derived from recycled material (a la book questions), you're assigning equal weight to busywork and actual understanding of the material. While one could certainly argue that the busywork leads to understanding, I really disliked the fact that the exams were formatted in this manner. I think it detracted immensely from the way that I personally approached the course--it was not a question of how well you could do on the exams as much as it was \"how many book answers did you remember today?\" \\r\\n\\r\\nFurthermore, this class is a B trap. Tour's refusal to curve the A is fair, but it ends in many students giving up on doing their best to learn the material. Many people were simply apathetic by the end, as anything below a 90 resulted in a B, with a very, very wide range. At the very least, Gen Chem encouraged a greater level of understanding on the final exams through redemption points. Instead of this, Tour dropped the lowest exam grade, which ends up encouraging further apathy over understanding. Lecture was also quite useless. The idea of students learning outside a classroom doesn't excuse the ineffectual teaching within the classroom itself. I was incredibly disappointed by this course. Perhaps my expectations were too high, but Orgo 1 certainly failed spectacularly in meeting them. It's a shame. I think I would have discovered a greater passion for organic chemistry otherwise. I wish I had. I'm not really angry about the way this course went, I'm just quite sad. There's a lot of wasted potential here.</td>\n",
       "      <td>8</td>\n",
       "    </tr>\n",
       "    <tr>\n",
       "      <th>15202</th>\n",
       "      <td>THIS CLASS IS GREAT. I'm infinitely lucky I had the opportunity to take Orgo I with Tour rather than any other teacher. It's definitely a lot: nothing about organic chemistry is intrinsically hard, it's just the sheer volume of information that gets overwhelming and makes it difficult to juggle. Tour is a great lecturer that makes you excited about the material he presents. Special topics at the end of class are great (and can affect you by half a letter grade on exams, so go to class!). Keep up with homework every week, because if you fall behind it's very hard to catch up. Online Sapling quizzes are stressful but overall informative.\\r\\n\\r\\nThe class is out of 500 points: 3 midterms (of increasing difficulty) worth 100 points each (lowest one dropped!!!!!), 20 points for discussion attendance, 80 points for Sapling quizzes, and a 200 point final. \\r\\nVery fair curve as well: To get an A in this class you need to earn a raw, uncurved A, but the B range extends from 70-89. So, it's very hard to get an A, but with decent effort you're almost handed a B.</td>\n",
       "      <td>8</td>\n",
       "    </tr>\n",
       "    <tr>\n",
       "      <th>15199</th>\n",
       "      <td>This class covers so much material that it is really hard to absorb everything. We cover about a chapter a week. There was no homework that was due but there were suggested problems posted for every chapter. The suggested problems covered about 75% of all the questions in each chapter. Basically, the idea of this class was learn the first 14 chapters of the textbook and do all the problems. This class required a lot of time outside of class. In my opinion, lecture was not helpful. There was too much material presented way too fast. It was way too hard to keep pace. Plus, the lecture was just basically presenting the powerpoint slides. You can understand just as much by looking at the slides and reading the textbook at your own pace.</td>\n",
       "      <td>8</td>\n",
       "    </tr>\n",
       "  </tbody>\n",
       "</table>\n",
       "</div>"
      ],
      "text/plain": [
       "                                                                                                                                                                                                                                                                                                                                                                                                                                                                                                                                                                                                                                                                                                                                                                                                                                                                                                                                                                                                                                                                                                                                                                                                                                                                                                                                                                                                                                                                                                                                                                                                                                                                                                                                                                                                                                                                                                                                                                                               Comments  \\\n",
       "15145                                                                                                                                                                                                                                                                    I really did not enjoy the style of the lectures.  300 of us stuffed into the same enormous lecture hall made for a terrible and impersonal experience compared to gen chem.  Additionally, lectures were fast-paced to an absurd degree.  I am pretty sure Tour himself knew at times that there was no possible way we could actually be absorbing everything he was trying to teach because of the speed he was going at.  Class is essentially a complete rehash of exactly what's in the textbook, which made attending even more pointless - instead of trying teach each lecture at a pace we can't follow anyway, how about using the time more productively and teaching us to apply the concepts perhaps?  Homework consisted of a HUGE amount (40-50 for each of the 14 chapters) of \"optional\" problems from the textbook and you'd at least need to do a good majority of them to get a handle on the material, and a fair amount of each exam consists of these homework problems, too.  Tour does not curve for As, so you actually need a raw 90% to get an A-, and unlike gen chem (which was also uncurved), you don't have extra credit participation points / redemption points to fall back on, so obtaining an A-/A in this class is an insane feat and much harder than in orgo classes with other teachers, which is kinda unfair.  If you want to do well, you will need to spend an immense amount of time on this class - I usually could never go a single day without doing some sort of orgo work or else I'd fall behind.  If you are able to organize yourself very well and really be on top of things in this class, you will be able to do well.  Just don't fall behind or you're screwed.   \n",
       "15206                                                                                                                                                                                                                                                                                                                                                                                                                                                                                                                                                                                                                                                                                                                                                                                                                                                                                                                                                                                                                                                                                                                                                                                                                                                                              This class was completely self-taught, which was very challenging for me as organic chemistry was really different from any material I had ever learned before. In theory Professor Tour makes the class really easy by putting lots of previously seen questions on all of the exams. However, since he doesn't really teach and you have to learn the concepts on your own, the exams are still very difficult. The lectures are literally just him reading the powerpoint that the author of the textbook made and so you don't learn anything from them. I found I did better when I didn't waste time going to lecture and just focused on reading the chapters myself and trying to teach myself the material.   \n",
       "15179  Orgo was a massive disappointment for me. While I recognize that what I write has no impact on anything, I'm required to write one of these anyway. I think most of my problems with the course stemmed from Dr. Tour, frankly. Orgo is definitely an interesting subject, but the way in which it was taught/assessed this semester encouraged busywork over understanding. When 50% of your exams are derived from recycled material (a la book questions), you're assigning equal weight to busywork and actual understanding of the material. While one could certainly argue that the busywork leads to understanding, I really disliked the fact that the exams were formatted in this manner. I think it detracted immensely from the way that I personally approached the course--it was not a question of how well you could do on the exams as much as it was \"how many book answers did you remember today?\" \\r\\n\\r\\nFurthermore, this class is a B trap. Tour's refusal to curve the A is fair, but it ends in many students giving up on doing their best to learn the material. Many people were simply apathetic by the end, as anything below a 90 resulted in a B, with a very, very wide range. At the very least, Gen Chem encouraged a greater level of understanding on the final exams through redemption points. Instead of this, Tour dropped the lowest exam grade, which ends up encouraging further apathy over understanding. Lecture was also quite useless. The idea of students learning outside a classroom doesn't excuse the ineffectual teaching within the classroom itself. I was incredibly disappointed by this course. Perhaps my expectations were too high, but Orgo 1 certainly failed spectacularly in meeting them. It's a shame. I think I would have discovered a greater passion for organic chemistry otherwise. I wish I had. I'm not really angry about the way this course went, I'm just quite sad. There's a lot of wasted potential here.   \n",
       "15202                                                                                                                                                                                                                                                                                                                                                                                                                                                                                                                                                                                                                                                                                                                                                                                                                                                                                      THIS CLASS IS GREAT. I'm infinitely lucky I had the opportunity to take Orgo I with Tour rather than any other teacher. It's definitely a lot: nothing about organic chemistry is intrinsically hard, it's just the sheer volume of information that gets overwhelming and makes it difficult to juggle. Tour is a great lecturer that makes you excited about the material he presents. Special topics at the end of class are great (and can affect you by half a letter grade on exams, so go to class!). Keep up with homework every week, because if you fall behind it's very hard to catch up. Online Sapling quizzes are stressful but overall informative.\\r\\n\\r\\nThe class is out of 500 points: 3 midterms (of increasing difficulty) worth 100 points each (lowest one dropped!!!!!), 20 points for discussion attendance, 80 points for Sapling quizzes, and a 200 point final. \\r\\nVery fair curve as well: To get an A in this class you need to earn a raw, uncurved A, but the B range extends from 70-89. So, it's very hard to get an A, but with decent effort you're almost handed a B.   \n",
       "15199                                                                                                                                                                                                                                                                                                                                                                                                                                                                                                                                                                                                                                                                                                                                                                                                                                                                                                                                                                                                                                                                                                                                                                                                                            This class covers so much material that it is really hard to absorb everything. We cover about a chapter a week. There was no homework that was due but there were suggested problems posted for every chapter. The suggested problems covered about 75% of all the questions in each chapter. Basically, the idea of this class was learn the first 14 chapters of the textbook and do all the problems. This class required a lot of time outside of class. In my opinion, lecture was not helpful. There was too much material presented way too fast. It was way too hard to keep pace. Plus, the lecture was just basically presenting the powerpoint slides. You can understand just as much by looking at the slides and reading the textbook at your own pace.   \n",
       "\n",
       "       veceval  \n",
       "15145       11  \n",
       "15206       10  \n",
       "15179        8  \n",
       "15202        8  \n",
       "15199        8  "
      ]
     },
     "execution_count": 105,
     "metadata": {},
     "output_type": "execute_result"
    }
   ],
   "source": [
    "pd.set_option('max_colwidth', 60000)\n",
    "cours('201710-10703')"
   ]
  },
  {
   "cell_type": "code",
   "execution_count": 106,
   "metadata": {},
   "outputs": [
    {
     "name": "stderr",
     "output_type": "stream",
     "text": [
      "100%|██████████| 84/84 [00:00<00:00, 45140.49it/s]\n",
      "100%|██████████| 84/84 [00:00<00:00, 106313.08it/s]\n"
     ]
    },
    {
     "data": {
      "text/html": [
       "<div>\n",
       "<style scoped>\n",
       "    .dataframe tbody tr th:only-of-type {\n",
       "        vertical-align: middle;\n",
       "    }\n",
       "\n",
       "    .dataframe tbody tr th {\n",
       "        vertical-align: top;\n",
       "    }\n",
       "\n",
       "    .dataframe thead th {\n",
       "        text-align: right;\n",
       "    }\n",
       "</style>\n",
       "<table border=\"1\" class=\"dataframe\">\n",
       "  <thead>\n",
       "    <tr style=\"text-align: right;\">\n",
       "      <th></th>\n",
       "      <th>Comments</th>\n",
       "      <th>veceval</th>\n",
       "    </tr>\n",
       "  </thead>\n",
       "  <tbody>\n",
       "    <tr>\n",
       "      <th>16313</th>\n",
       "      <td>This course is extremely difficult. Orgo is a difficult subject already, but the way it was taught this semester made it even more difficult. We had 4 quizzes, 3 midterms, and a final this semester, along with weekly assignments on sapling, which is actually helpful. The class format was lecture slides that he often went through too fast for me to take notes or even understand, even though I always did the textbook reading and took detailed notes beforehand. Reading the textbook was basically useless as nothing in the class was really based on it. The lecture slides have so much material but are extremely confusing as they don't have very many words on them, just mechanisms, and since he doesn't write them out on the board step by step, seeing the packed slides all at once is overwhelming. Most of the lecture slides had lots and lots of practice problems at the end (sometimes almost 100 per lecture) that we were supposed to do for practice. While these problems were helpful, Dr. Kurti often refused to post the answer keys to these problems for several days, even until the night before the midterm because he blamed our poor grades on us giving up and using the key too easily. However, we need to key to check as we go and learn from our mistakes because I do not want to spend hours and hours doing 600 problems and then realize I did half of them wrong the day before the exam. The quizzes he writes are challenging but doable; however, his exams are unreasonably difficult and reflect no practice problems that we have ever seen in lecture slides, discussion, sapling, or the textbook (I used to do every single problem we had access to and was still often unable to answer entire questions on the exams).</td>\n",
       "      <td>14</td>\n",
       "    </tr>\n",
       "    <tr>\n",
       "      <th>16274</th>\n",
       "      <td>Organic chemistry is infamous for being one of the toughest classes at Rice and what professor you take it with can make or break you. I will not lie to you, organic chemistry at Rice is HELL and much harder than organic chemistry classes at other colleges. The course itself requires that you put in many hours every week reviewing the concepts that you learn throughout the class. As the year goes on, these concepts begin to interconnect with each other and the problems you solve gather information from the entire year. You will hear professors say often that orgo is a cummulative subject and after 4 months of going through it I can tell you that it truly is. If I could give you a fool proof formula on how to succeed in this class I would but the truth is that you will get out of it the effort you put in. The more hours you put into reviewing the concepts and practicing reaction problems the easier it will be come exam time. If you keep up with the material, readings, practice problems, and take practice exams before the real deal, you should be fine.</td>\n",
       "      <td>7</td>\n",
       "    </tr>\n",
       "    <tr>\n",
       "      <th>16272</th>\n",
       "      <td>Okay so everybody's complaining about Orgo but let's be honest; Orgo is tough and challenging. There's no 2 ways about it. You *have to* put in the time and effort in order to see results. Sapling is kinda annoying at first but you get used to it. There are 3 midterms, 4 in class quizzes, weekly homework assignments and 1 final, so there's plenty of opportunity to redeem yourself if you do screw up somewhere. There's also plenty of opportunities to earn bonus points in tests and in lectures. Some may say that in class bonus points promote competition between students but that's not the point. You're supposed to work together with peers to review the material covered in the previous lecture so that you don't find yourself lost in class or having to go over it again. It's important to read the textbook before each class so that you can understand the material being presented and you're prepared with any questions you may have. Overall, I think the course is a fantastic learning opportunity and the skills you develop will definitely be a huge help down the line.</td>\n",
       "      <td>7</td>\n",
       "    </tr>\n",
       "    <tr>\n",
       "      <th>16327</th>\n",
       "      <td>Whoa.\\r\\nKurti is sooo hard not because of the material but because of the amount that you have to learn. \\r\\n\\r\\nOne thing I didn't like is the fact he added so much information that the book could not be of any help because the professor didn't follow it. I need to understand the \"why\" to things to remember but Kurti stopped following the book third of the way through the semester. Even if he aligned his lectures to readings in the book (which he stopped doing), he assigned 50 pages at a time which is so unrealistic even if you devoted your life to Kurti for a semester. \\r\\n\\r\\nHe needs to work on delivering the massive amounts of information and still make us understand what we are doing. \\r\\n\\r\\nHe says don't memorize, that we need to understand his explanations. Because there is so much to learn, we memorize his explanations. Memorizing is the way to go no matter what he says. He needs to change his course structure to allow us to actually understand the information being taken in. \\r\\n\\r\\nI would cut him some slack considering the school had to deal with Hurricane Harvey but I don't think he took any mercy on us.\\r\\n\\r\\nOverall, I did learn to build stamina, discipline, and attention to detail which I am grateful for.</td>\n",
       "      <td>6</td>\n",
       "    </tr>\n",
       "    <tr>\n",
       "      <th>16309</th>\n",
       "      <td>This class is terrible. The material is hard enough as it is, but the overall structure of the class makes it worse. The homework is on material you haven't learned yet. The readings are not aligned with the classes. You often don't know what you're supposed to know, so you're not sure what to study. The discussion sections make you practice reactions you haven't learned yet. The lectures are incredibly dull or confusing. Terrible class. Needs major restructuring.</td>\n",
       "      <td>6</td>\n",
       "    </tr>\n",
       "  </tbody>\n",
       "</table>\n",
       "</div>"
      ],
      "text/plain": [
       "                                                                                                                                                                                                                                                                                                                                                                                                                                                                                                                                                                                                                                                                                                                                                                                                                                                                                                                                                                                                                                                                                                                                                                                                                                                                                                                                                                                                                                                                                                                                                                                                                                                                                                                                                                                            Comments  \\\n",
       "16313  This course is extremely difficult. Orgo is a difficult subject already, but the way it was taught this semester made it even more difficult. We had 4 quizzes, 3 midterms, and a final this semester, along with weekly assignments on sapling, which is actually helpful. The class format was lecture slides that he often went through too fast for me to take notes or even understand, even though I always did the textbook reading and took detailed notes beforehand. Reading the textbook was basically useless as nothing in the class was really based on it. The lecture slides have so much material but are extremely confusing as they don't have very many words on them, just mechanisms, and since he doesn't write them out on the board step by step, seeing the packed slides all at once is overwhelming. Most of the lecture slides had lots and lots of practice problems at the end (sometimes almost 100 per lecture) that we were supposed to do for practice. While these problems were helpful, Dr. Kurti often refused to post the answer keys to these problems for several days, even until the night before the midterm because he blamed our poor grades on us giving up and using the key too easily. However, we need to key to check as we go and learn from our mistakes because I do not want to spend hours and hours doing 600 problems and then realize I did half of them wrong the day before the exam. The quizzes he writes are challenging but doable; however, his exams are unreasonably difficult and reflect no practice problems that we have ever seen in lecture slides, discussion, sapling, or the textbook (I used to do every single problem we had access to and was still often unable to answer entire questions on the exams).   \n",
       "16274                                                                                                                                                                                                                                                                                                                                                                                                                                                                                                                                                                                                                                                                                     Organic chemistry is infamous for being one of the toughest classes at Rice and what professor you take it with can make or break you. I will not lie to you, organic chemistry at Rice is HELL and much harder than organic chemistry classes at other colleges. The course itself requires that you put in many hours every week reviewing the concepts that you learn throughout the class. As the year goes on, these concepts begin to interconnect with each other and the problems you solve gather information from the entire year. You will hear professors say often that orgo is a cummulative subject and after 4 months of going through it I can tell you that it truly is. If I could give you a fool proof formula on how to succeed in this class I would but the truth is that you will get out of it the effort you put in. The more hours you put into reviewing the concepts and practicing reaction problems the easier it will be come exam time. If you keep up with the material, readings, practice problems, and take practice exams before the real deal, you should be fine.   \n",
       "16272                                                                                                                                                                                                                                                                                                                                                                                                                                                                                                                                                                                                                                                                            Okay so everybody's complaining about Orgo but let's be honest; Orgo is tough and challenging. There's no 2 ways about it. You *have to* put in the time and effort in order to see results. Sapling is kinda annoying at first but you get used to it. There are 3 midterms, 4 in class quizzes, weekly homework assignments and 1 final, so there's plenty of opportunity to redeem yourself if you do screw up somewhere. There's also plenty of opportunities to earn bonus points in tests and in lectures. Some may say that in class bonus points promote competition between students but that's not the point. You're supposed to work together with peers to review the material covered in the previous lecture so that you don't find yourself lost in class or having to go over it again. It's important to read the textbook before each class so that you can understand the material being presented and you're prepared with any questions you may have. Overall, I think the course is a fantastic learning opportunity and the skills you develop will definitely be a huge help down the line.   \n",
       "16327                                                                                                                                                                                                                                                                                                                                                                                                                                                                                                    Whoa.\\r\\nKurti is sooo hard not because of the material but because of the amount that you have to learn. \\r\\n\\r\\nOne thing I didn't like is the fact he added so much information that the book could not be of any help because the professor didn't follow it. I need to understand the \"why\" to things to remember but Kurti stopped following the book third of the way through the semester. Even if he aligned his lectures to readings in the book (which he stopped doing), he assigned 50 pages at a time which is so unrealistic even if you devoted your life to Kurti for a semester. \\r\\n\\r\\nHe needs to work on delivering the massive amounts of information and still make us understand what we are doing. \\r\\n\\r\\nHe says don't memorize, that we need to understand his explanations. Because there is so much to learn, we memorize his explanations. Memorizing is the way to go no matter what he says. He needs to change his course structure to allow us to actually understand the information being taken in. \\r\\n\\r\\nI would cut him some slack considering the school had to deal with Hurricane Harvey but I don't think he took any mercy on us.\\r\\n\\r\\nOverall, I did learn to build stamina, discipline, and attention to detail which I am grateful for.   \n",
       "16309                                                                                                                                                                                                                                                                                                                                                                                                                                                                                                                                                                                                                                                                                                                                                                                                                                                                                                                                                                                                                                                                                                                                                                                                                                                                                                           This class is terrible. The material is hard enough as it is, but the overall structure of the class makes it worse. The homework is on material you haven't learned yet. The readings are not aligned with the classes. You often don't know what you're supposed to know, so you're not sure what to study. The discussion sections make you practice reactions you haven't learned yet. The lectures are incredibly dull or confusing. Terrible class. Needs major restructuring.   \n",
       "\n",
       "       veceval  \n",
       "16313       14  \n",
       "16274        7  \n",
       "16272        7  \n",
       "16327        6  \n",
       "16309        6  "
      ]
     },
     "execution_count": 106,
     "metadata": {},
     "output_type": "execute_result"
    }
   ],
   "source": [
    "cours('201810-10703')"
   ]
  },
  {
   "cell_type": "code",
   "execution_count": null,
   "metadata": {},
   "outputs": [],
   "source": []
  }
 ],
 "metadata": {
  "kernelspec": {
   "display_name": "Python 3",
   "language": "python",
   "name": "python3"
  },
  "language_info": {
   "codemirror_mode": {
    "name": "ipython",
    "version": 3
   },
   "file_extension": ".py",
   "mimetype": "text/x-python",
   "name": "python",
   "nbconvert_exporter": "python",
   "pygments_lexer": "ipython3",
   "version": "3.7.4"
  }
 },
 "nbformat": 4,
 "nbformat_minor": 2
}
